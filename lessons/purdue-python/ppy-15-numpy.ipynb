{
 "metadata": {
  "name": ""
 },
 "nbformat": 3,
 "nbformat_minor": 0,
 "worksheets": [
  {
   "cells": [
    {
     "cell_type": "markdown",
     "metadata": {},
     "source": [
      "# Numpy and Scipy\n",
      "\n",
      "*****\n",
      "\n",
      "Prepared by: Ariel Rokem\n",
      "    \n",
      "Thanks to: Matt Davis, Justin Kitzes, Katy Huff, Matthew Terry"
     ]
    },
    {
     "cell_type": "markdown",
     "metadata": {},
     "source": [
      "## Introducing Numpy\n",
      "\n",
      "NumPy is a Python package implementing efficient collections of specific types of data (generally numerical), similar to the standard array\n",
      "module (but with many more features). NumPy arrays differ from lists and tuples in that the data is contiguous in memory. A Python **list**, \n",
      "```[0, 1, 2]```, in contrast, is actually an array of pointers to Python objects representing each number. This allows NumPy arrays to be\n",
      "considerably faster for numerical operations than Python lists/tuples."
     ]
    },
    {
     "cell_type": "code",
     "collapsed": true,
     "input": [
      "# Many useful functions are in external packages\n",
      "# Let's meet numpy\n",
      "import numpy as np"
     ],
     "language": "python",
     "metadata": {},
     "outputs": []
    },
    {
     "cell_type": "code",
     "collapsed": true,
     "input": [
      "# To see what's in the package\n",
      "np?"
     ],
     "language": "python",
     "metadata": {},
     "outputs": []
    },
    {
     "cell_type": "code",
     "collapsed": false,
     "input": [
      "# Some examples of numpy functions and \"things\":\n",
      "print(np.sqrt(4))\n",
      "print(np.pi)  # Not a function, just a variable\n",
      "print(np.sin(np.pi)) # A function on a variable :) "
     ],
     "language": "python",
     "metadata": {},
     "outputs": []
    },
    {
     "cell_type": "markdown",
     "metadata": {},
     "source": [
      "### Numpy arrays (ndarrays)\n",
      "\n",
      "Creating a NumPy array is as simple as passing a sequence to numpy.array:\n",
      "    \n",
      "Numpy arrays are collections of things, **all of which must be the same type**, that work\n",
      "similarly to lists (as we've described them so far). The most important are:\n",
      "\n",
      "1. You can easily perform elementwise operations (and matrix algebra) on arrays\n",
      "1. Arrays can be n-dimensional\n",
      "1. Arrays must be pre-allocated (ie, there is no equivalent to append)\n",
      "\n",
      "Arrays can be created from existing collections such as lists, or instantiated \"from scratch\" in a \n",
      "few useful ways."
     ]
    },
    {
     "cell_type": "code",
     "collapsed": false,
     "input": [
      "arr1 = np.array([1, 2.3, 4])   \n",
      "print(type(arr1))\n",
      "print(arr1.dtype)"
     ],
     "language": "python",
     "metadata": {},
     "outputs": []
    },
    {
     "cell_type": "markdown",
     "metadata": {},
     "source": [
      "You can also explicitly specify the data-type if the automatically-chosen one would be unsuitable."
     ]
    },
    {
     "cell_type": "code",
     "collapsed": false,
     "input": [
      "arr2 = np.array([1, 2.3, 4], dtype=int)   \n",
      "print(type(arr2))\n",
      "print(arr2.dtype)\n",
      "print arr2"
     ],
     "language": "python",
     "metadata": {},
     "outputs": []
    },
    {
     "cell_type": "markdown",
     "metadata": {},
     "source": [
      "As you might expect, creating a NumPy array this way can be slow, since it must manually convert each element of a list into its equivalent C type (int objects become C ints, etc). There are many other ways to create NumPy arrays, such as `np.identity`, `np.zeros`, `np.zeros_like`, or by manually specifying the dimensions and type of the array with the low-level creation function:"
     ]
    },
    {
     "cell_type": "code",
     "collapsed": false,
     "input": [
      "arr3 = np.array((2, 3, 4), dtype=complex)\n",
      "print(type(arr3))"
     ],
     "language": "python",
     "metadata": {},
     "outputs": []
    },
    {
     "cell_type": "markdown",
     "metadata": {},
     "source": [
      "Arrays have a `.shape` attribute, which stores the dimensions of the array as a tuple:"
     ]
    },
    {
     "cell_type": "code",
     "collapsed": false,
     "input": [
      "print(arr3.shape)"
     ],
     "language": "python",
     "metadata": {},
     "outputs": []
    },
    {
     "cell_type": "markdown",
     "metadata": {},
     "source": [
      "For many of the examples below, we will be using `np.arange` which, similar to the Python built-in function `range`, returns a NumPy array\n",
      "of integers from 0 to N-1, inclusive. Like `range`, you can also specify a starting value and a step:"
     ]
    },
    {
     "cell_type": "code",
     "collapsed": false,
     "input": [
      "arr4 = np.arange(2, 5)\n",
      "print(arr4)\n",
      "arr5 = np.arange(1, 5, 2)\n",
      "print(arr5)\n",
      "arr6 = np.arange(1, 10, 2)\n",
      "print arr6"
     ],
     "language": "python",
     "metadata": {},
     "outputs": []
    },
    {
     "cell_type": "markdown",
     "metadata": {},
     "source": [
      "### Exercise : Create an Array\n",
      "\n",
      "Create an array with values ranging from 0 to 10, in increments of 0.5. \n",
      "\n",
      "Reminder: get help by typing `np.arange?`, `np.ndarray?`, `np.array?`, etc. "
     ]
    },
    {
     "cell_type": "code",
     "collapsed": false,
     "input": [],
     "language": "python",
     "metadata": {},
     "outputs": []
    },
    {
     "cell_type": "markdown",
     "metadata": {},
     "source": [
      "## Arithmetic with arrays\n",
      "\n",
      "Since numpy exists to perform efficient numerical operations in Python, arrays have all the usual arithmetic operations available to them. These operations are performed element-wise (i.e. the same operation is performed independently on each element of the array)."
     ]
    },
    {
     "cell_type": "code",
     "collapsed": false,
     "input": [
      "A = np.arange(5)\n",
      "B = np.arange(5, 10)\n",
      "\n",
      "print 'A =', A, 'and B =',B, '\\n'\n",
      "\n",
      "print (A+B)\n",
      "\n",
      "print(B-A)"
     ],
     "language": "python",
     "metadata": {},
     "outputs": []
    },
    {
     "cell_type": "markdown",
     "metadata": {},
     "source": [
      "## What would happen if A and B did not have the same `shape`?"
     ]
    },
    {
     "cell_type": "code",
     "collapsed": false,
     "input": [
      "C = np.delete(B,1)\n",
      "print 'C = ', C"
     ],
     "language": "python",
     "metadata": {},
     "outputs": []
    },
    {
     "cell_type": "code",
     "collapsed": false,
     "input": [
      "print(A+C)"
     ],
     "language": "python",
     "metadata": {},
     "outputs": []
    },
    {
     "cell_type": "markdown",
     "metadata": {},
     "source": [
      "## Arithmetic with scalars:\n",
      "In addition, if one of the arguments is a scalar, that value will be applied to all the elements of the array."
     ]
    },
    {
     "cell_type": "code",
     "collapsed": false,
     "input": [
      "A = np.arange(5)\n",
      "print 'A =', A\n",
      "print ''\n",
      "\n",
      "print(A+10)\n",
      "print(2*A)\n",
      "print(A**2)"
     ],
     "language": "python",
     "metadata": {},
     "outputs": []
    },
    {
     "cell_type": "markdown",
     "metadata": {},
     "source": [
      "## Linear algebra with arrays\n",
      "You can use arrays as vectors and matrices in linear algebra operations\n",
      "\n",
      "Specifically, you can perform matrix/vector multiplication between arrays, by using the `.dot` method, or the `np.dot` function. For 1-D arrays, this generates the inner (dot) product. For higher dimension arrays, it performs matrix multiplication:"
     ]
    },
    {
     "cell_type": "code",
     "collapsed": false,
     "input": [
      "print 'A = ', A, 'and B =',B\n",
      "print ''\n",
      "\n",
      "normA = np.linalg.norm(A)\n",
      "print 'Length of A =', normA \n",
      "print '|A|**2 =', normA**2\n",
      "print ''\n",
      "\n",
      "print A.dot(A)\n",
      "print np.dot(A, B)"
     ],
     "language": "python",
     "metadata": {},
     "outputs": []
    },
    {
     "cell_type": "markdown",
     "metadata": {},
     "source": [
      "For higher dimension arrays:"
     ]
    },
    {
     "cell_type": "code",
     "collapsed": false,
     "input": [
      "C = np.array([[3,1,2],[4,5,6],[7,8,9]])\n",
      "D = np.transpose(C)\n",
      "E = C*D\n",
      "F = np.dot(C,D)\n",
      "\n",
      "print C, '\\n'\n",
      "print D, '\\n'\n",
      "print E, '\\n'\n",
      "print F"
     ],
     "language": "python",
     "metadata": {},
     "outputs": []
    },
    {
     "cell_type": "markdown",
     "metadata": {},
     "source": [
      "### Exercise : \n",
      "    \n",
      "1. Given two vectors in 3-space:\n",
      "    \n",
      "    `a = [1,2]`\n",
      "   \n",
      "    `b = [4,5]`\n",
      "\n",
      "   Find the angle between these vectors. \n",
      "1. The rotation matrix of $\\theta$ angle is a matrix with elements: \n",
      "    \n",
      "    [[cos($\\theta$), -sin($\\theta$], \n",
      "                          \n",
      "     [sin($\\theta$, cos($\\theta$)]]\n",
      "    \n",
      "   Create a function that takes two 3-vectors and creates the rotation matrix between them.\n",
      "1. For the vector `c=[7,8]`, find a vector `d` that has the same rotation as `b` has relative to `a`"
     ]
    },
    {
     "cell_type": "markdown",
     "metadata": {},
     "source": [
      "### Exercise : \n",
      "    \n",
      "1. Given two vectors in 3-space:\n",
      "    \n",
      "    `a = [1,2]`\n",
      "   \n",
      "    `b = [4,5]`\n",
      "\n",
      "   Find the angle between these vectors. "
     ]
    },
    {
     "cell_type": "code",
     "collapsed": false,
     "input": [
      "a = np.array([1,2])\n",
      "b = np.array([4,5])\n",
      "norm_a = np.linalg.norm(a)\n",
      "norm_b = np.linalg.norm(b)\n",
      "cosTheta = np.dot(a,b)/(norm_a*norm_b)\n",
      "theta = np.arccos(cosTheta)\n",
      "print theta * (180/np.pi), 'degrees'"
     ],
     "language": "python",
     "metadata": {},
     "outputs": []
    },
    {
     "cell_type": "markdown",
     "metadata": {},
     "source": [
      "### Boolean operators work on arrays too, and they return boolean arrays\n",
      "Much like the basic arithmetic operations we discussed above, comparison operations are perfomed element-wise. That is, rather than returning a\n",
      "single boolean, comparison operators compare each element in both arrays pairwise, and return an `array` of booleans (if the sizes of the input\n",
      "arrays are incompatible, the comparison will simply return False). For example:"
     ]
    },
    {
     "cell_type": "code",
     "collapsed": false,
     "input": [
      "arr1 = np.array([1, 2, 3, 4, 5])\n",
      "arr2 = np.array([1, 1, 3, 3, 5])\n",
      "print(arr1 == arr2)\n",
      "c = (arr1 == arr2)\n",
      "print c.dtype"
     ],
     "language": "python",
     "metadata": {},
     "outputs": []
    },
    {
     "cell_type": "markdown",
     "metadata": {},
     "source": [
      "Note: You can use the methods `.any()` and `.all()` or the functions `np.any` and `np.all` to return a single boolean indicating whether any or all values in the array are `True`, respectively.\n"
     ]
    },
    {
     "cell_type": "code",
     "collapsed": false,
     "input": [
      "print(np.all(c))\n",
      "print(c.all())\n",
      "print(c.any())"
     ],
     "language": "python",
     "metadata": {},
     "outputs": []
    },
    {
     "cell_type": "markdown",
     "metadata": {},
     "source": [
      "### Indexing arrays\n",
      "\n",
      "In addition to the usual methods of indexing lists with an integer (or with a series of colon-separated integers for a slice), numpy allows you\n",
      "to index arrays in a wide variety of different ways for more advanced operations.\n",
      "\n",
      "First, the simple way:"
     ]
    },
    {
     "cell_type": "code",
     "collapsed": false,
     "input": [
      "a = np.array([1,2,3])\n",
      "print a[0:2]"
     ],
     "language": "python",
     "metadata": {},
     "outputs": []
    },
    {
     "cell_type": "markdown",
     "metadata": {},
     "source": [
      "### What happens if the array has more than one dimension? "
     ]
    },
    {
     "cell_type": "code",
     "collapsed": false,
     "input": [
      "c = np.random.rand(3,3)\n",
      "print(c), '\\n'\n",
      "print(c[1:3,0:2]), '\\n'\n",
      "c[0,:] = a\n",
      "print(c)"
     ],
     "language": "python",
     "metadata": {},
     "outputs": []
    },
    {
     "cell_type": "markdown",
     "metadata": {},
     "source": [
      "## Exercise\n",
      "We can manipulate the shape of an array as follows: \n",
      "  `A = np.arange(16).reshape(4, 4)`\n",
      "Or even:\n",
      "  `A = np.reshape(numpy.arange(16), (4, 4))`\n",
      "    \n",
      "Using what we've learned about slicing and indexing, create a function that takes an integer as input, creates a square n-by-n array with integers from `0` to `n**2-1` (like `A`) and prints just the upper-left quarter of the array\n",
      "\n",
      "For example, for A, the desired output would be: \n",
      "    \n",
      "     array([[2, 3],\n",
      "            [6, 7]])"
     ]
    },
    {
     "cell_type": "code",
     "collapsed": false,
     "input": [
      "def squarely(size):\n",
      "    upto = (size**2)\n",
      "    base = np.arange(upto).reshape(size,size)\n",
      "    print base[0:size/2,0:size/2]\n",
      "\n",
      "squarely(4)"
     ],
     "language": "python",
     "metadata": {},
     "outputs": []
    },
    {
     "cell_type": "markdown",
     "metadata": {},
     "source": [
      "### Arrays can also be indexed with other arrays\n",
      "\n",
      "Arrays can be indexed with other arrays, using either an array of indices, or an array of booleans of the same length. In the former case, numpy returns a view of the data in the specified indices as a new array. In the latter, numpy returns a view of the array with only the elements where the index array is True. (We'll discuss the difference between views and copies in a moment.) This makes normally-tedious operations like clamping extremely simple.\n",
      "\n",
      "Indexing with an array of indices:\n"
     ]
    },
    {
     "cell_type": "code",
     "collapsed": false,
     "input": [
      "A = np.arange(5, 10)\n",
      "print(A)\n",
      "print(A[[0, 2, 3]])\n",
      "A[[0, 2, 3]] = 0\n",
      "print(A)\n"
     ],
     "language": "python",
     "metadata": {},
     "outputs": []
    },
    {
     "cell_type": "markdown",
     "metadata": {},
     "source": [
      "Indexing with a boolean array:"
     ]
    },
    {
     "cell_type": "code",
     "collapsed": false,
     "input": [
      "random = np.random\n",
      "# Check out the list comprehension!\n",
      "A = np.array([random.randint(0, 10) for i in range(20)]) \n",
      "print(A)\n",
      "A[A>5] = 0\n",
      "print(A)"
     ],
     "language": "python",
     "metadata": {},
     "outputs": []
    },
    {
     "cell_type": "markdown",
     "metadata": {},
     "source": [
      "There are handy ways to make arrays full of ones and zeros:"
     ]
    },
    {
     "cell_type": "code",
     "collapsed": false,
     "input": [
      "print(np.zeros(5)), '\\n'\n",
      "print np.ones(5), '\\n'\n",
      "print np.identity(5)"
     ],
     "language": "python",
     "metadata": {},
     "outputs": []
    },
    {
     "cell_type": "markdown",
     "metadata": {},
     "source": [
      "## Numpy 'gotchas'\n",
      "\n",
      "### Multiplication and Addition\n",
      "\n",
      "As you may have noticed above, since NumPy arrays are modeled more closely after vectors and matrices, multiplying by a scalar will multiply each element of the array, whereas multiplying a list by a scalar will repeat that list N times."
     ]
    },
    {
     "cell_type": "code",
     "collapsed": false,
     "input": [
      "A = np.arange(5)*2\n",
      "print(A) \n",
      "B = range(5)*2\n",
      "print(B)"
     ],
     "language": "python",
     "metadata": {},
     "outputs": []
    },
    {
     "cell_type": "markdown",
     "metadata": {},
     "source": [
      "Similarly, when adding two numpy arrays together, we get the vector sum back, whereas when adding two lists together, we get the concatenation back."
     ]
    },
    {
     "cell_type": "code",
     "collapsed": false,
     "input": [
      "A = np.arange(5) + np.arange(5)\n",
      "print(A)\n",
      "B =range(5) + range(5)\n",
      "print(B)"
     ],
     "language": "python",
     "metadata": {},
     "outputs": []
    },
    {
     "cell_type": "markdown",
     "metadata": {},
     "source": [
      "### Views vs. Copies\n",
      "\n",
      "In order to be as efficient as possible, numpy uses \"views\" instead of copies wherever possible. That is, numpy arrays derived from another base array generally refer to the ''exact same data'' as the base array. The consequence of this is that modification of these derived arrays will also modify the base array. The result of an array indexed by an array of indices is a ''copy'', but an array indexed by an array of booleans is a ''view''. \n",
      "\n",
      "Specifically, slices of arrays are always views, unlike slices of lists or tuples, which are always copies."
     ]
    },
    {
     "cell_type": "code",
     "collapsed": false,
     "input": [
      "A = np.arange(5)\n",
      "B = A[0:1] # slicing creates a view into A vector\n",
      "B[0] = 42\n",
      "print(A)\n",
      "\n",
      "A = range(5)\n",
      "B = A[0:1] # slicing makes an entirely new copy\n",
      "B[0] = 42\n",
      "print(A)\n",
      "   "
     ],
     "language": "python",
     "metadata": {},
     "outputs": []
    },
    {
     "cell_type": "markdown",
     "metadata": {},
     "source": [
      "### Exercise : Copy a numpy array\n",
      "\n",
      "Figure out how to create a copy of a numpy array. Remember: since numpy slices are views, you can't use the trick you'd use for Python lists,\n",
      "i.e. `copy = list[:]`."
     ]
    },
    {
     "cell_type": "code",
     "collapsed": false,
     "input": [
      "A = np.arange(5)\n",
      "B = np.copy(A)\n",
      "print A\n",
      "print B\n",
      "print type(A)\n",
      "print type(B)"
     ],
     "language": "python",
     "metadata": {},
     "outputs": []
    },
    {
     "cell_type": "markdown",
     "metadata": {},
     "source": [
      "## Mathematics with numpy\n",
      "\n",
      "Being designed for scientific computing, numpy also contains a host of common mathematical functions, including linear algebra functions, fast\n",
      "Fourier transforms, and probability/statistics functions. While there isn't space to go over ''all'' of these in detail, we will provide an overview of the most common/essential of these."
     ]
    },
    {
     "cell_type": "markdown",
     "metadata": {},
     "source": [
      "For multi-dimensional arrays, there are some other common matrix operations that can be conducted:"
     ]
    },
    {
     "cell_type": "code",
     "collapsed": false,
     "input": [
      "A = np.arange(16).reshape(4, 4)\n",
      "print(A), '\\n'\n",
      "print(A.T), '\\n' # transpose\n",
      "print(A.trace())"
     ],
     "language": "python",
     "metadata": {},
     "outputs": []
    },
    {
     "cell_type": "markdown",
     "metadata": {},
     "source": [
      "There are many more methods like these available with NumPy arrays. Be sure to consult the numpy documentation before writing your own versions!"
     ]
    },
    {
     "cell_type": "markdown",
     "metadata": {},
     "source": [
      "### The  `matrix`  class \n",
      "\n",
      "So far, we've used two-dimensional arrays to represent matrix-like objects. However, numpy provides a specialized class for this. The `matrix` class is almost identical to a two-dimensional numpy array, but has a few changes to the interface to simplify common linear algebraic tasks. These are:\n",
      "\n",
      "* The `*` operator is performs matrix multiplication\n",
      "* The `**` operator performs matrix exponentiation\n",
      "* The property `.I` (or the method `.getI()`) returns the matrix inverse\n",
      "* The property `.H` (or the method `.getH()`) returns the conjugate transpose\n",
      "\n",
      "### Example: Solving a System of Linear Equations (A x = B)"
     ]
    },
    {
     "cell_type": "code",
     "collapsed": false,
     "input": [
      "la = np.linalg\n",
      "A = np.matrix([[3, 2, -1], [2, -2, 4], [-1, .5, -1]])\n",
      "B = np.array([1, -2, 0])\n",
      "print(la.solve(A, B))"
     ],
     "language": "python",
     "metadata": {},
     "outputs": []
    }
   ],
   "metadata": {}
  }
 ]
}