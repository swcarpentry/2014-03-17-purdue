{
 "metadata": {
  "name": ""
 },
 "nbformat": 3,
 "nbformat_minor": 0,
 "worksheets": [
  {
   "cells": [
    {
     "cell_type": "markdown",
     "metadata": {},
     "source": [
      "# Strings\n",
      "\n",
      "**Authors: Tommy Guy, Anthony Scopatz, Will Trimble, Leszek Tarkowski**\n",
      "\n",
      "To start understanding the string type, let's use the built in help system."
     ]
    },
    {
     "cell_type": "code",
     "collapsed": false,
     "input": [
      "help(str)"
     ],
     "language": "python",
     "metadata": {},
     "outputs": []
    },
    {
     "cell_type": "markdown",
     "metadata": {},
     "source": [
      "The help page for string is very long, and it may be easier to keep it open\n",
      "in a browser window by going to the [online Python\n",
      "documentation for str](http://docs.python.org/2/library/functions.html#str) and the documentation for [sequence types](http://docs.python.org/library/stdtypes.html#sequence-types-str-unicode-list-tuple-bytearray-buffer-xrange)\n",
      "while we talk about its properties.\n",
      "\n",
      "At its heart, a string is just a sequence of characters. Basic strings are\n",
      "defined using single or double quotes."
     ]
    },
    {
     "cell_type": "code",
     "collapsed": false,
     "input": [
      "s = \"This is a string.\"\n",
      "s2 = 'This is another string that uses single quotes'"
     ],
     "language": "python",
     "metadata": {},
     "outputs": []
    },
    {
     "cell_type": "markdown",
     "metadata": {},
     "source": [
      "The reason for having two types of quotes to define a string is\n",
      "emphasized in these examples:"
     ]
    },
    {
     "cell_type": "code",
     "collapsed": false,
     "input": [
      "s = \"Bob's mom called to say hello.\"\n",
      "s = 'Bob's mom called to say hello.'"
     ],
     "language": "python",
     "metadata": {},
     "outputs": []
    },
    {
     "cell_type": "markdown",
     "metadata": {},
     "source": [
      "The second one should be an error: Python interprets it as `s = 'Bob'` then the\n",
      "rest of the line breaks the language standard.\n",
      "\n",
      "Characters in literal strings must come from the ASCII character set,\n",
      "which is a set of 127 character codes that is used by all modern\n",
      "programming languages and computers. Unfortunately, ASCII does not have\n",
      "room for non-Roman characters like accents or Eastern scripts. Unicode\n",
      "strings in Python are specified with a leading u:"
     ]
    },
    {
     "cell_type": "code",
     "collapsed": false,
     "input": [
      "u = u'abcd\u00e9'"
     ],
     "language": "python",
     "metadata": {},
     "outputs": []
    },
    {
     "cell_type": "markdown",
     "metadata": {},
     "source": [
      "For the rest of this lecture, we will deal with ASCII strings, because\n",
      "most scientific data that is stored as text is stored with ASCII."
     ]
    },
    {
     "cell_type": "markdown",
     "metadata": {},
     "source": [
      "## Working with Strings\n",
      "\n",
      "Strings are iterables, which means many of the ideas from lists can also\n",
      "be applied directly to string manipulation. For instance, characters can\n",
      "be accessed individually or in sequences:"
     ]
    },
    {
     "cell_type": "code",
     "collapsed": false,
     "input": [
      "s = 'abcdefghijklmnopqrstuvwxyz'\n",
      "s[0]"
     ],
     "language": "python",
     "metadata": {},
     "outputs": []
    },
    {
     "cell_type": "code",
     "collapsed": false,
     "input": [
      "s[-1]"
     ],
     "language": "python",
     "metadata": {},
     "outputs": []
    },
    {
     "cell_type": "code",
     "collapsed": false,
     "input": [
      "s[1:4]"
     ],
     "language": "python",
     "metadata": {},
     "outputs": []
    },
    {
     "cell_type": "markdown",
     "metadata": {},
     "source": [
      "They can also be compared using sort and equals."
     ]
    },
    {
     "cell_type": "code",
     "collapsed": false,
     "input": [
      "'str1' == 'str2'"
     ],
     "language": "python",
     "metadata": {},
     "outputs": []
    },
    {
     "cell_type": "code",
     "collapsed": false,
     "input": [
      "'str1' == 'str1'"
     ],
     "language": "python",
     "metadata": {},
     "outputs": []
    },
    {
     "cell_type": "code",
     "collapsed": false,
     "input": [
      "'str1' < 'str2'"
     ],
     "language": "python",
     "metadata": {},
     "outputs": []
    },
    {
     "cell_type": "markdown",
     "metadata": {},
     "source": [
      "In the help screen, which we looked at above, there are lots of\n",
      "functions that look like this:\n",
      "\n",
      "    |  __add__(...)\n",
      "    |      x.__add__(y) <==> x+y\n",
      "\n",
      "    |  __le__(...)\n",
      "    |      x.__le__(y) <==> x<y\n",
      "\n",
      "These are special Python functions that interpret operations like < and \\+.\n",
      "We'll talk more about these in the next lecture on Classes.\n",
      "\n",
      "Some special functions introduce handy text functions."
     ]
    },
    {
     "cell_type": "markdown",
     "metadata": {},
     "source": [
      "**Hands on example**\n",
      "\n",
      "Try each of the following functions on a few strings. What does the\n",
      "function do?"
     ]
    },
    {
     "cell_type": "code",
     "collapsed": false,
     "input": [
      "s = \"This is a string\""
     ],
     "language": "python",
     "metadata": {},
     "outputs": []
    },
    {
     "cell_type": "code",
     "collapsed": false,
     "input": [
      "s.startswith(\"This\")"
     ],
     "language": "python",
     "metadata": {},
     "outputs": []
    },
    {
     "cell_type": "code",
     "collapsed": false,
     "input": [
      "s.split(\" \")"
     ],
     "language": "python",
     "metadata": {},
     "outputs": []
    },
    {
     "cell_type": "code",
     "collapsed": false,
     "input": [
      "s.strip() # This won't change every string!"
     ],
     "language": "python",
     "metadata": {},
     "outputs": []
    },
    {
     "cell_type": "code",
     "collapsed": false,
     "input": [
      "s.capitalize()"
     ],
     "language": "python",
     "metadata": {},
     "outputs": []
    },
    {
     "cell_type": "code",
     "collapsed": false,
     "input": [
      "s.lower()"
     ],
     "language": "python",
     "metadata": {},
     "outputs": []
    },
    {
     "cell_type": "code",
     "collapsed": false,
     "input": [
      "s.upper()"
     ],
     "language": "python",
     "metadata": {},
     "outputs": []
    },
    {
     "cell_type": "markdown",
     "metadata": {},
     "source": [
      "### String formatting\n",
      "Pairs of empty curly braces { } serve as place-holders for variables to be inserted into a string. We pass these variables into the string using the `format()` method."
     ]
    },
    {
     "cell_type": "code",
     "collapsed": false,
     "input": [
      "college = \"Purdue U.\"\n",
      "city = \"West Lafayette\"\n",
      "founded = \"1869\"\n",
      "\n",
      "#Example of the format() method:\n",
      "print \"{}, located in {}, was founded in {}\".format(college, city, founded)\n",
      "\n",
      "#Example of numbered place-holders\n",
      "print \"{2}, located in {0}, was founded in {1}\".format(city, founded, college)"
     ],
     "language": "python",
     "metadata": {},
     "outputs": []
    },
    {
     "cell_type": "markdown",
     "metadata": {},
     "source": [
      "### Concatentation\n",
      "\n",
      "Python has a slightly unique method for joining together multiple strings. While the traditional method works, "
     ]
    },
    {
     "cell_type": "code",
     "collapsed": false,
     "input": [
      "print \"abc\" + \"def\""
     ],
     "language": "python",
     "metadata": {},
     "outputs": []
    },
    {
     "cell_type": "markdown",
     "metadata": {},
     "source": [
      "you will often see this Python idiom using the `join` method to concatenate multiple strings in a list:"
     ]
    },
    {
     "cell_type": "code",
     "collapsed": false,
     "input": [
      "alist = ['Do', 'you', 'know', 'the', 'way', 'to', 'San', 'Jose']\n",
      "print \" \".join(alist)"
     ],
     "language": "python",
     "metadata": {},
     "outputs": []
    },
    {
     "cell_type": "markdown",
     "metadata": {},
     "source": [
      "It is also handy for generating a line of data in a CSV file:"
     ]
    },
    {
     "cell_type": "code",
     "collapsed": false,
     "input": [
      "print \",\".join(alist)"
     ],
     "language": "python",
     "metadata": {},
     "outputs": []
    }
   ],
   "metadata": {}
  }
 ]
}