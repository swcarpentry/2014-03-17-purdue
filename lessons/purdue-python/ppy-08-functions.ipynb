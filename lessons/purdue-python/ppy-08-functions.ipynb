{
 "metadata": {
  "name": ""
 },
 "nbformat": 3,
 "nbformat_minor": 0,
 "worksheets": [
  {
   "cells": [
    {
     "cell_type": "markdown",
     "metadata": {},
     "source": [
      "# Python: Functions and Modules"
     ]
    },
    {
     "cell_type": "markdown",
     "metadata": {},
     "source": [
      "Materials by: [John Blischak](https://github.com/jdblischak \"GitHub\"), Anthony Scopatz, and other Software Carpentry instructors (Joshua R. Smith, Milad Fatenejad, Katy Huff, Tommy Guy and many more)"
     ]
    },
    {
     "cell_type": "markdown",
     "metadata": {},
     "source": [
      "Computers are very useful for doing the same operation over and over. When you know you will be performing the same operation many times, it is best to encapsulate this similar code into a function or a method.  Programming functions are related to mathematical functions, e.g. $f(x)$, and it is helpful to think of them as abstract operators that produce output given some input. Let's look at some examples to solidify this concept."
     ]
    },
    {
     "cell_type": "markdown",
     "metadata": {},
     "source": [
      "# Creating your own functions!\n",
      "\n",
      "A programming language should not include everything anyone might ever want. Instead, it should make it easy for people to create\n",
      "what they need to solve specific problems. When there is no function available in Python to perform a particular task, you can write your own function.  The simplest functions have the following format:\n",
      "\n",
      "    def <function name>():\n",
      "        <function body>"
     ]
    },
    {
     "cell_type": "code",
     "collapsed": false,
     "input": [
      "def do_nothing():\n",
      "    s = \"I don't do much\""
     ],
     "language": "python",
     "metadata": {},
     "outputs": []
    },
    {
     "cell_type": "markdown",
     "metadata": {},
     "source": [
      "However, this often isn't very useful since **we haven't returned any values** from this function.  Note: that if you don't return anything from a function in Python, you implicitly have returned the special `None` singleton.  To return values that you computed locally in the function body, use the **return** keyword.\n",
      "\n",
      "    def <function name>():\n",
      "        <function body>\n",
      "        return <local variable 1>      "
     ]
    },
    {
     "cell_type": "markdown",
     "metadata": {},
     "source": [
      "Functions, may be defined to take parameters or **arguments**.\n",
      "\n",
      "    def <function name>(<argument>):\n",
      "        <function body>\n",
      "        return <local variable 1>  \n",
      "        \n",
      "The function name, arguments, and return are jointly known as the **function signature** since the uniquely define the function's **interface**."
     ]
    },
    {
     "cell_type": "code",
     "collapsed": true,
     "input": [
      "def square(x):\n",
      "    sqr = x * x\n",
      "    return sqr"
     ],
     "language": "python",
     "metadata": {},
     "outputs": []
    },
    {
     "cell_type": "markdown",
     "metadata": {},
     "source": [
      "Using a function is done by placing parentheses `()` after the function name after you have defined it.  This is known as **calling** the function.  If the function requires arguments, the values for these arguments are inside of the parentheses."
     ]
    },
    {
     "cell_type": "code",
     "collapsed": false,
     "input": [
      "square(2)"
     ],
     "language": "python",
     "metadata": {},
     "outputs": []
    },
    {
     "cell_type": "markdown",
     "metadata": {},
     "source": [
      "Like mathematical functions, you can compose a function with other functions or with itself!"
     ]
    },
    {
     "cell_type": "code",
     "collapsed": false,
     "input": [
      "square(square(2))"
     ],
     "language": "python",
     "metadata": {},
     "outputs": []
    },
    {
     "cell_type": "markdown",
     "metadata": {},
     "source": [
      "Functions may be defined such that they have multiple arguments or multiple return values:\n",
      "\n",
      "    def <function name>(<arg1>, <arg2>, ...):\n",
      "        <function body>\n",
      "        return <var1> , <var2>, ..."
     ]
    },
    {
     "cell_type": "code",
     "collapsed": true,
     "input": [
      "def hello(time, name):\n",
      "    print 'Good ' + time + ', ' + name + '!'"
     ],
     "language": "python",
     "metadata": {},
     "outputs": []
    },
    {
     "cell_type": "code",
     "collapsed": false,
     "input": [
      "hello('afternoon', 'Software Carpentry')"
     ],
     "language": "python",
     "metadata": {},
     "outputs": []
    },
    {
     "cell_type": "code",
     "collapsed": false,
     "input": [
      "# return both the quotient and remainder\n",
      "def quorem(a, b):\n",
      "    quo = a / b\n",
      "    rem = a % b\n",
      "    return quo, rem"
     ],
     "language": "python",
     "metadata": {},
     "outputs": []
    },
    {
     "cell_type": "code",
     "collapsed": false,
     "input": [
      "quorem(42, 16)"
     ],
     "language": "python",
     "metadata": {},
     "outputs": []
    },
    {
     "cell_type": "markdown",
     "metadata": {},
     "source": [
      "Note that when you return multiple values you may unpack these into individual variables or into a single variable which is a tuple of both values:"
     ]
    },
    {
     "cell_type": "code",
     "collapsed": false,
     "input": [
      "q, r = quorem(42, 16)\n",
      "print q\n",
      "print r\n",
      "\n",
      "both = quorem(42, 16)\n",
      "print both"
     ],
     "language": "python",
     "metadata": {},
     "outputs": []
    },
    {
     "cell_type": "markdown",
     "metadata": {},
     "source": [
      "### When to Write a Function?\n",
      "\n",
      "Functions allow a programmer to minimize the number of details under active consideration by abstracting away less relevant sub-issues. The computer doesn't care about functions, this is an issue for people!\n",
      "\n",
      "Human short term memory can hold approximatley 7 \u00b1 2 items. Thus, if someone has to keep more than a dozen things in their mind at once to understand a block of code, it's too long. If you get confused reading through your own code, it's time to break your logic into comprehensible pieces by implementing functions. (Even if each function is called only once.)\n",
      "\n",
      "Consider the following code:"
     ]
    },
    {
     "cell_type": "markdown",
     "metadata": {},
     "source": [
      "    for x in range(1, GRID_WIDTH-1):\n",
      "        for y in range(1, GRID_HEIGHT-1):\n",
      "            if (density[x-1][y] > density_threshold) or (density[x+1][y] > density_threshold):\n",
      "                if (flow[x][y-1] < flow_threshold) or (flow[x][y+1] < flow_threshold):\n",
      "                    temp = (density[x-1][y] + density[x+1][y]) / 2\n",
      "                    if abs(temp - density[x][y]) > update_threshold:\n",
      "                        density[x][y] = temp"
     ]
    },
    {
     "cell_type": "markdown",
     "metadata": {},
     "source": [
      "We can refactor the first two lines with a function called `grid_interior()`:"
     ]
    },
    {
     "cell_type": "markdown",
     "metadata": {},
     "source": [
      "    for x in grid_interior(GRID_WIDTH):             # refactored\n",
      "        for y in grid_interior(GRID_HEIGHT):        # refactored\n",
      "            if (density[x-1][y] > density_threshold) or (density[x+1][y] > density_threshold):\n",
      "                if (flow[x][y-1] < flow_threshold) or (flow[x][y+1] < flow_threshold):\n",
      "                    temp = (density[x-1][y] + density[x+1][y]) / 2\n",
      "                    if abs(temp - density[x][y]) > update_threshold:\n",
      "                        density[x][y] = temp"
     ]
    },
    {
     "cell_type": "markdown",
     "metadata": {},
     "source": [
      "Next, we can refactor the tests on X and Y axes with functions `density_exceeds` and `flow_exceeds`:"
     ]
    },
    {
     "cell_type": "markdown",
     "metadata": {},
     "source": [
      "    for x in grid_interior(GRID_WIDTH):\n",
      "        for y in grid_interior(GRID_HEIGHT):\n",
      "            if density_exceeds(density, x, y, density_threshold):  # refactored\n",
      "                if flow_exceeds(flow, x, y, flow_threshold):       # refactored\n",
      "                    temp = (density[x-1][y] + density[x+1][y]) / 2\n",
      "                    if abs(temp - density[x][y]) > update_threshold:\n",
      "                        density[x][y] = temp"
     ]
    },
    {
     "cell_type": "markdown",
     "metadata": {},
     "source": [
      "Finally, we can refactor the final three lines of code that update the density values:"
     ]
    },
    {
     "cell_type": "markdown",
     "metadata": {},
     "source": [
      "    for x in grid_interior(GRID_WIDTH):\n",
      "        for y in grid_interior(GRID_HEIGHT):\n",
      "            if density_exceeds(density, x, y, density_threshold):\n",
      "                if flow_exceeds(flow, x, y, flow_threshold): \n",
      "                    update_on_tolerance(density, x, y, tolerance) # refactored"
     ]
    },
    {
     "cell_type": "markdown",
     "metadata": {},
     "source": [
      "Good programmers will write this version of the code first, then back into the other functions. However, it's a skill that takes some practice!\n",
      "\n",
      "Consider the code we wrote earlier when dealing with file I/O:"
     ]
    },
    {
     "cell_type": "markdown",
     "metadata": {},
     "source": [
      "    reader = open('csv-data.txt', 'r')\n",
      "    data = reader.readlines()\n",
      "    reader.close()\n",
      "    modified_data = [data[0]]           # copy header into new data list\n",
      "    del data[0]  \t\t\t\t\t\t# delete header from old data list\n",
      "    for entry in data:\n",
      "        splitlist = entry.split()\n",
      "        if len(splitlist) > 0:          # have to deal with empty final line\n",
      "            [sub, age, gen, hgt] = entry.split(',')\n",
      "            new_hgt = float(hgt)*2.54   # convert height from inches to cm\n",
      "            new_hgt = ' ' + str(new_hgt)# convert height back to a string\n",
      "            newline = ','.join([sub, age, gen, new_hgt])\n",
      "            newline = newline + '\\n'    # add new line at end of each entry\n",
      "            modified_data.append(newline)\n",
      "    writer = open('modified-csv-data.txt', 'w')\n",
      "    writer.writelines(modified_data)\n",
      "    writer.close()"
     ]
    },
    {
     "cell_type": "markdown",
     "metadata": {},
     "source": [
      "We could refactor this code into three functions:"
     ]
    },
    {
     "cell_type": "markdown",
     "metadata": {},
     "source": [
      "    data = readCSV('csv-data.txt')\n",
      "    modified_data = modify_height(data)\n",
      "    writeCSV('modified-csv-data.txt')"
     ]
    },
    {
     "cell_type": "markdown",
     "metadata": {},
     "source": [
      "## The General Problem\n",
      "![xkcd](http://imgs.xkcd.com/comics/the_general_problem.png \"I find that when someone's taking time to do something right in the present, they're a perfectionist with no ability to prioritize, whereas when someone took time to do something right in the past, they're a master artisan of great foresight.\")\n",
      "From [xkcd](http://www.xkcd.com)\n",
      "\n",
      "Now that you can write your own functions, you too will experience the dilemma of deciding whether to spend the extra time to make your code more general, and therefore more easily reused in the future."
     ]
    },
    {
     "cell_type": "markdown",
     "metadata": {},
     "source": [
      "So let's investigate Python functions in greater detail..."
     ]
    },
    {
     "cell_type": "markdown",
     "metadata": {},
     "source": [
      "## Keyword Arguments\n",
      "\n",
      "In Python, functions also support default values for arguments.  Arguments with an associated default are called **keyword arguments**.  If this function is then called without one of these arguments being present the default value is used.  All keyword arguments must come after normal positional arguments in the function definition:\n",
      "\n",
      "    def <function name>(<arg1>, <arg2>, <arg3>=<arg3 default>, <arg4>=<arg4 default>, ...):\n",
      "        <function body>\n",
      "        return <rtn>"
     ]
    },
    {
     "cell_type": "code",
     "collapsed": false,
     "input": [
      "def add_space(s, t=\"Mom\"):\n",
      "    return s + \" \" + t"
     ],
     "language": "python",
     "metadata": {},
     "outputs": []
    },
    {
     "cell_type": "code",
     "collapsed": false,
     "input": [
      "print add_space(\"Hello\")\n",
      "print add_space(\"Morning\", \"Dad\")"
     ],
     "language": "python",
     "metadata": {},
     "outputs": []
    },
    {
     "cell_type": "markdown",
     "metadata": {},
     "source": [
      "You can also call any functions with their arguments, regular and keyword, with their argument names explicitly in the call.  This uses equal signs in the same way that keyword arguments are defined."
     ]
    },
    {
     "cell_type": "code",
     "collapsed": false,
     "input": [
      "print add_space(s=\"Hello\")\n",
      "print add_space(s=\"Morning\", t=\"Dad\")"
     ],
     "language": "python",
     "metadata": {},
     "outputs": []
    },
    {
     "cell_type": "markdown",
     "metadata": {},
     "source": [
      "If you have many keyword arguments, then they may be out of order in the function call as long as they are explicit."
     ]
    },
    {
     "cell_type": "code",
     "collapsed": false,
     "input": [
      "def f(x=1, y=2, z=3):\n",
      "    return 2*x**3 + 42*y - z"
     ],
     "language": "python",
     "metadata": {},
     "outputs": []
    },
    {
     "cell_type": "code",
     "collapsed": false,
     "input": [
      "f(y=17, z=15, x=2)"
     ],
     "language": "python",
     "metadata": {},
     "outputs": []
    },
    {
     "cell_type": "markdown",
     "metadata": {},
     "source": [
      "**Warning:**  You have to be really careful when using mutable containers as default arguments because the default argument's value gets created once when Python processes the `def` statement and then the reference to the same default is used over and over again. In other words, the container will remember its value from previous function calls."
     ]
    },
    {
     "cell_type": "code",
     "collapsed": false,
     "input": [
      "def add_to_list(val, seq=[]):\n",
      "    seq.append(val)\n",
      "    return seq"
     ],
     "language": "python",
     "metadata": {},
     "outputs": []
    },
    {
     "cell_type": "code",
     "collapsed": false,
     "input": [
      "add_to_list(42)"
     ],
     "language": "python",
     "metadata": {},
     "outputs": []
    },
    {
     "cell_type": "code",
     "collapsed": false,
     "input": [
      "add_to_list(16)"
     ],
     "language": "python",
     "metadata": {},
     "outputs": []
    },
    {
     "cell_type": "code",
     "collapsed": false,
     "input": [
      "add_to_list(65)"
     ],
     "language": "python",
     "metadata": {},
     "outputs": []
    },
    {
     "cell_type": "markdown",
     "metadata": {},
     "source": [
      "## Packing & Unpacking Arguments\n",
      "\n",
      "Say that you have a list or tuple of values that you would like to call a function with.  You might be tempted to do the following:"
     ]
    },
    {
     "cell_type": "code",
     "collapsed": false,
     "input": [
      "def myadd(x, y):\n",
      "    return x + y"
     ],
     "language": "python",
     "metadata": {},
     "outputs": []
    },
    {
     "cell_type": "code",
     "collapsed": false,
     "input": [
      "addme = (42, 65)\n",
      "myadd(addme[0], addme[1])"
     ],
     "language": "python",
     "metadata": {},
     "outputs": []
    },
    {
     "cell_type": "markdown",
     "metadata": {},
     "source": [
      "However, this becomes very tedious very quickly.  To solve this, Python allows you to call a function with the original list prepended by an asterisk `*`.  This expands, or **unpacks**, the values of the list into the function call."
     ]
    },
    {
     "cell_type": "code",
     "collapsed": false,
     "input": [
      "myadd(*addme)"
     ],
     "language": "python",
     "metadata": {},
     "outputs": []
    },
    {
     "cell_type": "code",
     "collapsed": false,
     "input": [
      "myadd(*[14, 18])"
     ],
     "language": "python",
     "metadata": {},
     "outputs": []
    },
    {
     "cell_type": "markdown",
     "metadata": {},
     "source": [
      "Not just lists, but any sequence is allowed to be expanded in this way.  While this works for normal arguments, keyword arguments are more similar to dictionaries.  Therefore any mapping is also able to be expanded into keyword arguments.  To distinguish keyword argument unpacking from unpacking normal arguments, you must use a double asterisk `**` to unpack a dictionary."
     ]
    },
    {
     "cell_type": "code",
     "collapsed": false,
     "input": [
      "def f(x=1, y=2, z=3):\n",
      "    return 2*x**3 + 42*y - z"
     ],
     "language": "python",
     "metadata": {},
     "outputs": []
    },
    {
     "cell_type": "code",
     "collapsed": false,
     "input": [
      "v = {'x': 1, 'y': 2, 'z': 3}\n",
      "f(**v)"
     ],
     "language": "python",
     "metadata": {},
     "outputs": []
    },
    {
     "cell_type": "markdown",
     "metadata": {},
     "source": [
      "This allows you to build up dictionaries of values with which to call function *before* calling it.\n",
      "\n",
      "In addition to calling functions with lists or tuples and dicts, you may also define functions such that any extra arguments are put into a tuple and any extra keyword arguments are placed into a dictionary.  These special catch-all containers must come after all other arguments and all other keyword arguments.  This is known as argument packing and uses the single and double asterisk as above, but this time in the function definition:\n",
      "\n",
      "    def <function name>(<arg1>, <arg2>=<arg2 default>, *<other args>, **<other keyword args>):\n",
      "        <function body>\n",
      "        return <rtn>"
     ]
    },
    {
     "cell_type": "code",
     "collapsed": false,
     "input": [
      "def what(x, y, *args):\n",
      "    print \"x = \",  x\n",
      "    print \"y = \", y\n",
      "    print \"extra arguments = \", args"
     ],
     "language": "python",
     "metadata": {},
     "outputs": []
    },
    {
     "cell_type": "code",
     "collapsed": false,
     "input": [
      "what(1, 10, 178.0, \"hello\", [42, 42])"
     ],
     "language": "python",
     "metadata": {},
     "outputs": []
    },
    {
     "cell_type": "code",
     "collapsed": false,
     "input": [
      "def classroom(teacher=\"Anthony\", **kwargs):\n",
      "    print \"Teacher's name is \", teacher\n",
      "    print \"Teacher has a lot to deal with:\", kwargs"
     ],
     "language": "python",
     "metadata": {},
     "outputs": []
    },
    {
     "cell_type": "code",
     "collapsed": false,
     "input": [
      "classroom(lesson=\"functions\", lesson=\"Python\")"
     ],
     "language": "python",
     "metadata": {},
     "outputs": []
    },
    {
     "cell_type": "code",
     "collapsed": false,
     "input": [
      "def sweet_nothings(x, y, *args, **kwargs):\n",
      "    print x\n",
      "    print y\n",
      "    print args\n",
      "    print kwargs"
     ],
     "language": "python",
     "metadata": {},
     "outputs": []
    },
    {
     "cell_type": "code",
     "collapsed": false,
     "input": [
      "sweet_nothings(0, 0.0, 42, \"Nothing\", zero=\"zero\", z=\"\", f=True, empty=\"de nada\")"
     ],
     "language": "python",
     "metadata": {},
     "outputs": []
    },
    {
     "cell_type": "markdown",
     "metadata": {},
     "source": [
      "So the most general function signature that you can define is:"
     ]
    },
    {
     "cell_type": "code",
     "collapsed": false,
     "input": [
      "def func(*arg, **kwargs):\n",
      "    print args\n",
      "    print kwargs"
     ],
     "language": "python",
     "metadata": {},
     "outputs": []
    },
    {
     "cell_type": "code",
     "collapsed": false,
     "input": [
      "func()  # try me out!"
     ],
     "language": "python",
     "metadata": {},
     "outputs": []
    },
    {
     "cell_type": "markdown",
     "metadata": {},
     "source": [
      "## Recursion\n",
      "\n",
      "One of the greatest features of functions is that they may call themselves from within their own bodies!  This is known as **recursion**. "
     ]
    },
    {
     "cell_type": "code",
     "collapsed": false,
     "input": [
      "def count_backwards(x):\n",
      "    print x\n",
      "    count_backwards(x-1)"
     ],
     "language": "python",
     "metadata": {},
     "outputs": []
    },
    {
     "cell_type": "code",
     "collapsed": false,
     "input": [
      "count_backwards(10)"
     ],
     "language": "python",
     "metadata": {},
     "outputs": []
    },
    {
     "cell_type": "markdown",
     "metadata": {},
     "source": [
      "Well, that was too much.  Thus it is important to ensure that recursive functions have some case which does not call itself.  This will terminate the recursion."
     ]
    },
    {
     "cell_type": "code",
     "collapsed": false,
     "input": [
      "def count_backwards(x):\n",
      "    print x\n",
      "    if 0 < x:\n",
      "        count_backwards(x-1)"
     ],
     "language": "python",
     "metadata": {},
     "outputs": []
    },
    {
     "cell_type": "code",
     "collapsed": false,
     "input": [
      "count_backwards(10)"
     ],
     "language": "python",
     "metadata": {},
     "outputs": []
    },
    {
     "cell_type": "markdown",
     "metadata": {},
     "source": [
      "One of the most famous recursive sequences is the [Fibonacci sequence](http://en.wikipedia.org/wiki/Fibonacci_number).  This can be defined as a single recursive function."
     ]
    },
    {
     "cell_type": "code",
     "collapsed": false,
     "input": [
      "def fib(n):\n",
      "    if n == 0 or n == 1:\n",
      "        return n\n",
      "    else:\n",
      "        return fib(n - 1) + fib(n - 2)"
     ],
     "language": "python",
     "metadata": {},
     "outputs": []
    },
    {
     "cell_type": "code",
     "collapsed": false,
     "input": [
      "for x in range(11):\n",
      "    print fib(x),\n",
      "print 'done'"
     ],
     "language": "python",
     "metadata": {},
     "outputs": []
    },
    {
     "cell_type": "markdown",
     "metadata": {},
     "source": [
      "## Decorators"
     ]
    },
    {
     "cell_type": "markdown",
     "metadata": {},
     "source": [
      "In Python, functions are **first class objects**.  A first class object can be dynamically created, destroyed, passed to a function, returned as a value, and used as any other variable."
     ]
    },
    {
     "cell_type": "code",
     "collapsed": false,
     "input": [
      "def myfunc(x):\n",
      "    return x"
     ],
     "language": "python",
     "metadata": {},
     "outputs": []
    },
    {
     "cell_type": "code",
     "collapsed": false,
     "input": [
      "print myfunc"
     ],
     "language": "python",
     "metadata": {},
     "outputs": []
    },
    {
     "cell_type": "code",
     "collapsed": false,
     "input": [
      "yourfunc = myfunc\n",
      "yourfunc(\"hello\")"
     ],
     "language": "python",
     "metadata": {},
     "outputs": []
    },
    {
     "cell_type": "markdown",
     "metadata": {},
     "source": [
      "Functions may be passed to other functions as arguments:"
     ]
    },
    {
     "cell_type": "code",
     "collapsed": false,
     "input": [
      "def just_one():\n",
      "    return 1\n",
      "\n",
      "def add_one(f):\n",
      "    return f() + 1\n",
      "\n",
      "add_one(just_one)"
     ],
     "language": "python",
     "metadata": {},
     "outputs": []
    },
    {
     "cell_type": "markdown",
     "metadata": {},
     "source": [
      "Functions may also then define other functions and return them:"
     ]
    },
    {
     "cell_type": "code",
     "collapsed": false,
     "input": [
      "def outer():\n",
      "    def inner(*args, **kwargs):\n",
      "        return args[0]\n",
      "    return inner"
     ],
     "language": "python",
     "metadata": {},
     "outputs": []
    },
    {
     "cell_type": "code",
     "collapsed": false,
     "input": [
      "print outer()\n",
      "new_inner = outer()\n",
      "print new_inner(3)"
     ],
     "language": "python",
     "metadata": {},
     "outputs": []
    },
    {
     "cell_type": "markdown",
     "metadata": {},
     "source": [
      "When you define a function which takes a function and (usually) returns a function, this is called a **decorator**.  Decorators are used to wrap other functions."
     ]
    },
    {
     "cell_type": "code",
     "collapsed": false,
     "input": [
      "def loud(f):\n",
      "    def newfunc(*args, **kwargs):\n",
      "        print \"calling with:\", args, kwargs\n",
      "        rtn = f(*args, **kwargs)\n",
      "        print \"got\", rtn\n",
      "        return rtn\n",
      "    return newfunc"
     ],
     "language": "python",
     "metadata": {},
     "outputs": []
    },
    {
     "cell_type": "code",
     "collapsed": false,
     "input": [
      "def myadd(x, y):\n",
      "    return x + y\n",
      "\n",
      "loudadd = loud(myadd)\n",
      "v = loudadd(2, 4)"
     ],
     "language": "python",
     "metadata": {},
     "outputs": []
    },
    {
     "cell_type": "markdown",
     "metadata": {},
     "source": [
      "Most of the time such functions may be used such that the original function name is preserved."
     ]
    },
    {
     "cell_type": "code",
     "collapsed": false,
     "input": [
      "myadd = loud(myadd)\n",
      "myadd(42, 65)"
     ],
     "language": "python",
     "metadata": {},
     "outputs": []
    },
    {
     "cell_type": "markdown",
     "metadata": {},
     "source": [
      "Python also has a shortcut for using decorators which preserve the same name.  The 'at' symbol `@` followed by the decorator name is placed on the line above the function definition."
     ]
    },
    {
     "cell_type": "code",
     "collapsed": false,
     "input": [
      "@loud\n",
      "def mysub(x, y):\n",
      "    return x - y"
     ],
     "language": "python",
     "metadata": {},
     "outputs": []
    },
    {
     "cell_type": "code",
     "collapsed": false,
     "input": [
      "v = mysub(42, 65)"
     ],
     "language": "python",
     "metadata": {},
     "outputs": []
    },
    {
     "cell_type": "markdown",
     "metadata": {},
     "source": [
      "For more advanced users, the standard library `functools` module has some really powerful and great utilities.  This includes the [functools.wraps()](http://docs.python.org/2/library/functools.html#functools.wraps) function."
     ]
    },
    {
     "cell_type": "markdown",
     "metadata": {},
     "source": [
      "## Lambdas\n",
      "\n",
      "Lambdas are small, single expression functions that are **anonymous** (they have no name).  They come from functional programming languages and the [Lambda Calculus](http://en.wikipedia.org/wiki/Lambda_calculus). Since they are so small they may be written on a single line. \n",
      "\n",
      "    lambda <args>: <expr>\n",
      "    "
     ]
    },
    {
     "cell_type": "code",
     "collapsed": false,
     "input": [
      "lambda x: x + 1"
     ],
     "language": "python",
     "metadata": {},
     "outputs": []
    },
    {
     "cell_type": "markdown",
     "metadata": {},
     "source": [
      "Note that just because they are implicitly anonymous, doesn't mean that you can't name them."
     ]
    },
    {
     "cell_type": "code",
     "collapsed": false,
     "input": [
      "f = lambda x, y: x + y + 1"
     ],
     "language": "python",
     "metadata": {},
     "outputs": []
    },
    {
     "cell_type": "markdown",
     "metadata": {},
     "source": [
      "This is much more useful than it might seem at first glance."
     ]
    },
    {
     "cell_type": "code",
     "collapsed": false,
     "input": [
      "xvals = range(10)\n",
      "yvals = range(0,20,2)\n",
      "print xvals\n",
      "print yvals\n",
      "\n",
      "map(f, xvals, yvals)"
     ],
     "language": "python",
     "metadata": {},
     "outputs": []
    },
    {
     "cell_type": "markdown",
     "metadata": {},
     "source": [
      "# Modules\n",
      "Python has a lot of useful data type and functions built into the language, some of which you have already seen. For a full list, you can type `dir(__builtins__)`. However, there are even more functions stored in modules.\n",
      "\n",
      "Each module contains functions related to a particular area of analysis or computation. An example is the sine function, which is stored in the math module. In order to access mathematical functions, like sin, we need to **import** the math module. Lets take a look at a simple example:"
     ]
    },
    {
     "cell_type": "code",
     "collapsed": false,
     "input": [
      "print sin(3) # Error! Python doesn't know what sin is...yet"
     ],
     "language": "python",
     "metadata": {},
     "outputs": []
    },
    {
     "cell_type": "code",
     "collapsed": false,
     "input": [
      "import math # Import the math module\n",
      "math.sin(3)"
     ],
     "language": "python",
     "metadata": {},
     "outputs": []
    },
    {
     "cell_type": "code",
     "collapsed": false,
     "input": [
      "dir(math) # See a list of everything in the math module"
     ],
     "language": "python",
     "metadata": {},
     "outputs": []
    },
    {
     "cell_type": "code",
     "collapsed": true,
     "input": [
      "help(math) # Get help information for the math module"
     ],
     "language": "python",
     "metadata": {},
     "outputs": []
    },
    {
     "cell_type": "markdown",
     "metadata": {},
     "source": [
      "It is not very difficult to use modules - you just have to know the module name and import it. There are a few variations on the import statement that can be used to make your life easier. Lets take a look at an example:"
     ]
    },
    {
     "cell_type": "code",
     "collapsed": false,
     "input": [
      "from math import *  # import everything from math into the global namespace (A BAD IDEA IN GENERAL)\n",
      "print sin(3)        # notice that we don't need to type math.sin anymore\n",
      "print tan(3)        # the tangent function was also in math, so we can use that too"
     ],
     "language": "python",
     "metadata": {},
     "outputs": []
    },
    {
     "cell_type": "markdown",
     "metadata": {},
     "source": [
      "The preceding is a bad idea because:\n",
      "\n",
      "* you are importing many functions that you may not be actually using, thus hogging memory and slowing lookup operations\n",
      "* you risk \"clobbering\" functions already loaded into the local namespace"
     ]
    },
    {
     "cell_type": "code",
     "collapsed": true,
     "input": [
      "%reset                 # Clear everything from IPython"
     ],
     "language": "python",
     "metadata": {},
     "outputs": []
    },
    {
     "cell_type": "code",
     "collapsed": false,
     "input": [
      "from math import sin  # Import just sin from the math module. This is a good idea.\n",
      "print sin(3)          # We can use sin because we just imported it\n",
      "print tan(3)          # Error: We only imported sin - not tan"
     ],
     "language": "python",
     "metadata": {},
     "outputs": []
    },
    {
     "cell_type": "code",
     "collapsed": true,
     "input": [
      "reset                 # Clear everything"
     ],
     "language": "python",
     "metadata": {},
     "outputs": []
    },
    {
     "cell_type": "code",
     "collapsed": false,
     "input": [
      "import math as m      # Same as import math, except we are renaming the module m\n",
      "print m.sin(3)        # This is really handy if you have module names that are long"
     ],
     "language": "python",
     "metadata": {},
     "outputs": []
    },
    {
     "cell_type": "markdown",
     "metadata": {},
     "source": [
      "Python comes with a *huge* number of modules available as part of the standard library (batteries included).  It has a gargantuan number of third party modules as well.  This ecosystem is what makes scientific software development in Python great!"
     ]
    },
    {
     "cell_type": "markdown",
     "metadata": {},
     "source": [
      "Each module is a file containing Python definitions and statements. So the file `hello.py` could be imported with `import hello.`\n",
      "\n",
      "To group together a number of `.py` files, collect them in a folder. If the folder has a file called `__init__.py` inside, the folder is considered a module by Python, and you can call the collection of files a \"package.\""
     ]
    },
    {
     "cell_type": "markdown",
     "metadata": {},
     "source": [
      "### Exercise\n",
      "\n",
      "Create a file called 'mymodule.py' and within that file define a function called 'myfunction'. Have your new function return the time of day. HINT: recall we could use the `time.asctime()` function for this purpose.)\n",
      "\n",
      "Once your file is written and saved, return to this notebook and execute the following command:"
     ]
    },
    {
     "cell_type": "code",
     "collapsed": false,
     "input": [
      "import mymodule as mm\n",
      "print mm.myfunction()"
     ],
     "language": "python",
     "metadata": {},
     "outputs": []
    }
   ],
   "metadata": {}
  }
 ]
}