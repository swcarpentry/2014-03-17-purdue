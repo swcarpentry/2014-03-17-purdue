{
 "metadata": {
  "name": ""
 },
 "nbformat": 3,
 "nbformat_minor": 0,
 "worksheets": [
  {
   "cells": [
    {
     "cell_type": "markdown",
     "metadata": {},
     "source": [
      "# Web Based Data\n",
      "*****\n",
      "Examples developed by Jeff Shelton"
     ]
    },
    {
     "cell_type": "markdown",
     "metadata": {},
     "source": [
      "## CSV Data\n",
      "\n",
      "Sometimes you want to gather information from across the internet. So we can use the [urllib2](http://docs.python.org/2/library/urllib2.html) module to access such data. Perhaps you need to grab a CSV (comma separated variable) file of the [latest earthquake data](http://earthquake.usgs.gov/earthquakes/feed/v1.0/csv.php)..."
     ]
    },
    {
     "cell_type": "code",
     "collapsed": false,
     "input": [
      "import urllib2, csv\n",
      "\n",
      "quake_URL = \"http://earthquake.usgs.gov/earthquakes/feed/v1.0/summary/all_hour.csv\"\n",
      "\n",
      "quake_data = urllib2.urlopen(quake_URL)\n",
      "\n",
      "reader = csv.reader(quake_data)\n",
      "\n",
      "for row in reader:\n",
      "    for item in row:\n",
      "        print item.upper(),\n",
      "    print '\\n'\n",
      "    \n",
      "quake_data.close()"
     ],
     "language": "python",
     "metadata": {},
     "outputs": []
    },
    {
     "cell_type": "markdown",
     "metadata": {},
     "source": [
      "Maybe we'd like to import the [current time](https://www.google.com/search?q=current+gmt) in JavaScript Object Notation ([JSON](http://www.json.org/)) format..."
     ]
    },
    {
     "cell_type": "code",
     "collapsed": false,
     "input": [
      "import urllib2, json\n",
      "\n",
      "time_url = \"http://time.jsontest.com\"\n",
      "\n",
      "time_page = urllib2.urlopen(time_url)\n",
      "\n",
      "time_dict = json.load(time_page)\n",
      "\n",
      "print \"Current GMT time is %s\" % (time_dict['time'])"
     ],
     "language": "python",
     "metadata": {},
     "outputs": []
    },
    {
     "cell_type": "markdown",
     "metadata": {},
     "source": [
      "Or perhaps you want to pull some information off of a web page. We can gather the [latest power rankings](http://www.usatoday.com/sports/sagarin/nfl12.htm) for NFL teams..."
     ]
    },
    {
     "cell_type": "code",
     "collapsed": false,
     "input": [
      "import urllib2\n",
      "\n",
      "clubs = ['Buffalo','Miami','New England','New York Jets','Baltimore','Cincinnati','Cleveland',\n",
      "         'Pittsburgh','Houston','Indianapolis','Jacksonville','Tennessee','Denver','Kansas City',\n",
      "         'Oakland','San Diego','Dallas','New York Giants','Philadelphia','Washington','Chicago',\n",
      "         'Detroit','Green Bay','Minnesota','Atlanta','Carolina','New Orleans','Tampa Bay',\n",
      "         'Arizona','St. Louis','San Francisco','Seattle']\n",
      "\n",
      "rank_page = urllib2.urlopen(\"http://www.usatoday.com/sports/nfl/sagarin/2013/rating/\")\n",
      "\n",
      "strength = {}\n",
      "\n",
      "for line in rank_page:\n",
      "    # find the line with Sagarin info\n",
      "    if line.find('sagarin-page'):\n",
      "        # split into managable segments\n",
      "        teaminfo = line.split('</font><br>')\n",
      "        for teamchunk in teaminfo:\n",
      "            for club in clubs:\n",
      "                # handle New York teams\n",
      "                if re.match('New York',club):\n",
      "                    cs = club.split()\n",
      "                    if cs[-1] == 'Jets':\n",
      "                        mod_club = 'New York (NYJ)'\n",
      "                    elif cs[-1] == 'Giants':\n",
      "                        mod_club = 'New York (NYG)'\n",
      "                    else:\n",
      "                        raise NameError('Do not recognize NY team name')\n",
      "                else:\n",
      "                    mod_club = club\n",
      "                \n",
      "                if teamchunk.find(club) > 0:\n",
      "                    clubs.remove(club)\n",
      "                    strength[mod_club] = teamchunk.split()[-6]\n",
      "                    break\n",
      "                    \n",
      "for team, strength in strength.items():\n",
      "    print team, strength"
     ],
     "language": "python",
     "metadata": {},
     "outputs": []
    },
    {
     "cell_type": "code",
     "collapsed": false,
     "input": [],
     "language": "python",
     "metadata": {},
     "outputs": []
    }
   ],
   "metadata": {}
  }
 ]
}