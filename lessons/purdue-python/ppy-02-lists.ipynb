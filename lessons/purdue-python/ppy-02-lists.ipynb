{
 "metadata": {
  "name": ""
 },
 "nbformat": 3,
 "nbformat_minor": 0,
 "worksheets": [
  {
   "cells": [
    {
     "cell_type": "markdown",
     "metadata": {},
     "source": [
      "# Data Structure: Lists"
     ]
    },
    {
     "cell_type": "markdown",
     "metadata": {},
     "source": [
      "**Based on lecture materials by Milad Fatenejad, Joshua R. Smith, Will Trimble, and Anthony Scopatz**\n",
      "\n",
      "Python would be a fairly useless language if it weren't for its **_collection_** data types. The main two collections types are **lists** and **dictionaries**, but we'll discuss **sets** and **tuples** as well."
     ]
    },
    {
     "cell_type": "markdown",
     "metadata": {},
     "source": [
      "## Lists\n",
      "\n",
      "The most popular collection in Python is a list. A list is an ordered, indexable collection of data. Let's say you have collected some current and voltage data that looks like this:\n",
      "\n",
      "    voltages:\n",
      "    -2.0\n",
      "    -1.0\n",
      "     0.0\n",
      "     1.0\n",
      "     2.0\n",
      "\n",
      "    currents:\n",
      "    -1.0\n",
      "    -0.5\n",
      "     0.0\n",
      "     0.5\n",
      "     1.0\n",
      "\n",
      "So you could put that data into lists like"
     ]
    },
    {
     "cell_type": "code",
     "collapsed": true,
     "input": [
      "voltages = [-2.0, -1.0, 0.0, 1.0, 2.0]\n",
      "\n",
      "currents = [-1.0, -0.5, 0.0, 0.5, 1.0]"
     ],
     "language": "python",
     "metadata": {},
     "outputs": []
    },
    {
     "cell_type": "markdown",
     "metadata": {},
     "source": [
      "**voltages** is of type list:"
     ]
    },
    {
     "cell_type": "code",
     "collapsed": true,
     "input": [
      "type(voltages)"
     ],
     "language": "python",
     "metadata": {},
     "outputs": []
    },
    {
     "cell_type": "markdown",
     "metadata": {},
     "source": [
      "Python lists are indexed from zero.  Therefore, to find the value of the first item in `voltages`:"
     ]
    },
    {
     "cell_type": "code",
     "collapsed": true,
     "input": [
      "voltages[0]"
     ],
     "language": "python",
     "metadata": {},
     "outputs": []
    },
    {
     "cell_type": "markdown",
     "metadata": {},
     "source": [
      "And to find the value of the third item"
     ]
    },
    {
     "cell_type": "code",
     "collapsed": true,
     "input": [
      "voltages[2]"
     ],
     "language": "python",
     "metadata": {},
     "outputs": []
    },
    {
     "cell_type": "markdown",
     "metadata": {},
     "source": [
      "Lists can be indexed from the back using a negative index. This expression gives us the last element of `currents`:"
     ]
    },
    {
     "cell_type": "code",
     "collapsed": true,
     "input": [
      "currents[-1]"
     ],
     "language": "python",
     "metadata": {},
     "outputs": []
    },
    {
     "cell_type": "markdown",
     "metadata": {},
     "source": [
      "and the next-to-last"
     ]
    },
    {
     "cell_type": "code",
     "collapsed": true,
     "input": [
      "currents[-2]"
     ],
     "language": "python",
     "metadata": {},
     "outputs": []
    },
    {
     "cell_type": "markdown",
     "metadata": {},
     "source": [
      "You can \"slice\" items from within a list. Lets say we wanted the second through fourth items from `voltages`"
     ]
    },
    {
     "cell_type": "code",
     "collapsed": true,
     "input": [
      "voltages[1:4]"
     ],
     "language": "python",
     "metadata": {},
     "outputs": []
    },
    {
     "cell_type": "markdown",
     "metadata": {},
     "source": [
      "Slicing lists from the beginning until a given index or from a given index to the end \n",
      "is so common a task that it has a shortcut.  If you omit the index to the left of \n",
      "the colon, it is interpreted as 0.   If you omit the index to the right of the colon, \n",
      "it is interpreted as `len(<list>)`.  So this expression takes all the elements starting \n",
      "from the third and continuing to the end of the list:"
     ]
    },
    {
     "cell_type": "code",
     "collapsed": true,
     "input": [
      "print voltages\n",
      "print voltages[2:]"
     ],
     "language": "python",
     "metadata": {},
     "outputs": []
    },
    {
     "cell_type": "markdown",
     "metadata": {},
     "source": [
      "Note: when taking slices, the elements returned **include** the **starting** index but **exclude** the **final** index.  "
     ]
    },
    {
     "cell_type": "code",
     "collapsed": false,
     "input": [
      "voltages[0:len(voltages)]  # this expression gives the entire list.\n",
      "voltages[:]                # and this is the shortcut for the above."
     ],
     "language": "python",
     "metadata": {},
     "outputs": []
    },
    {
     "cell_type": "markdown",
     "metadata": {},
     "source": [
      "If you try to grab a value from an invalid index, you will get an error message:"
     ]
    },
    {
     "cell_type": "code",
     "collapsed": false,
     "input": [
      "voltages[5]"
     ],
     "language": "python",
     "metadata": {},
     "outputs": []
    },
    {
     "cell_type": "markdown",
     "metadata": {},
     "source": [
      "It's also an error to use a non-integer index"
     ]
    },
    {
     "cell_type": "code",
     "collapsed": false,
     "input": [
      "voltages[2.45]"
     ],
     "language": "python",
     "metadata": {},
     "outputs": []
    },
    {
     "cell_type": "markdown",
     "metadata": {},
     "source": [
      "We can use the `range` command to create a list for us:"
     ]
    },
    {
     "cell_type": "code",
     "collapsed": false,
     "input": [
      "x = range(1,25, 2)\n",
      "x"
     ],
     "language": "python",
     "metadata": {},
     "outputs": []
    },
    {
     "cell_type": "markdown",
     "metadata": {},
     "source": [
      "Lists are mutable and heterogeneous:\n",
      "\n",
      "* **Mutable** -- can change after it is created\n",
      "* **Heterogeneous** -- can store values of many kinds"
     ]
    },
    {
     "cell_type": "code",
     "collapsed": false,
     "input": [
      "many_vals = [1, 2.0, 'three', ['x','y','z']]\n",
      "many_vals[1] = 3.1415926\n",
      "print many_vals\n",
      "print many_vals[3][1]"
     ],
     "language": "python",
     "metadata": {},
     "outputs": []
    },
    {
     "cell_type": "markdown",
     "metadata": {},
     "source": [
      "Nested lists are powerful, but can lead to subtle bugs!\n",
      "\n",
      "The [Python documentation--An informal Introduction to Python](http://docs.python.org/2/tutorial/introduction.html#lists) contains more examples and more details about how to create and access instances of this utilitarian data structure.\n",
      "\n",
      "Remember that square brackets denote a **list** in Python!"
     ]
    },
    {
     "cell_type": "markdown",
     "metadata": {},
     "source": [
      "### Exercise #1\n",
      "\n",
      "Write a program that adds all the numbers between 1 and 715, making use of the fact that the `sum` command takes a list as an argument."
     ]
    },
    {
     "cell_type": "code",
     "collapsed": false,
     "input": [
      "sum(voltages)"
     ],
     "language": "python",
     "metadata": {},
     "outputs": []
    },
    {
     "cell_type": "code",
     "collapsed": false,
     "input": [],
     "language": "python",
     "metadata": {},
     "outputs": []
    },
    {
     "cell_type": "markdown",
     "metadata": {},
     "source": [
      "### Length of Lists\n",
      "\n",
      "\n",
      "\n",
      "Sometimes you want to know how many items are in a list. Use the `len` command."
     ]
    },
    {
     "cell_type": "code",
     "collapsed": true,
     "input": [
      "len(voltages)"
     ],
     "language": "python",
     "metadata": {},
     "outputs": []
    },
    {
     "cell_type": "markdown",
     "metadata": {},
     "source": [
      "### Append, Extend and Delete\n",
      "\n",
      "List have methods. A method is a function that belongs to specific data.\n",
      "\n",
      "The notation for accessing these methods is: `thing.method(arguments)`. You can view all of the methods for an object using the `dir` command:"
     ]
    },
    {
     "cell_type": "code",
     "collapsed": true,
     "input": [
      "dir(list)"
     ],
     "language": "python",
     "metadata": {},
     "outputs": []
    },
    {
     "cell_type": "markdown",
     "metadata": {},
     "source": [
      "The method names beginning with double underscores are Python's default operators. This can be \"overloaded\" by advanced Python programmers when needed. However, as a beginning Python programmer, you can simply ignore these methods, and concentrate on those without a leading underscore.\n",
      "\n",
      "Another source of information about any Python object is available as:"
     ]
    },
    {
     "cell_type": "code",
     "collapsed": false,
     "input": [
      "help(list)  "
     ],
     "language": "python",
     "metadata": {},
     "outputs": []
    },
    {
     "cell_type": "markdown",
     "metadata": {},
     "source": [
      "One useful method is `append`. Let's say we want to stick the following data on the end of both our lists:\n",
      "\n",
      "    voltages\n",
      "     3.0\n",
      "     4.0\n",
      "\n",
      "    currents\n",
      "     1.5\n",
      "     2.0\n",
      "\n",
      "If you want to append items to the end of a list, use the append method."
     ]
    },
    {
     "cell_type": "code",
     "collapsed": true,
     "input": [
      "print voltages\n",
      "voltages.append(3.0)\n",
      "print voltages"
     ],
     "language": "python",
     "metadata": {},
     "outputs": []
    },
    {
     "cell_type": "code",
     "collapsed": true,
     "input": [
      "print voltages\n",
      "voltages.append(4.0)\n",
      "print voltages"
     ],
     "language": "python",
     "metadata": {},
     "outputs": []
    },
    {
     "cell_type": "markdown",
     "metadata": {},
     "source": [
      "You can see how that approach might be tedious in certain cases. If you want to concatenate a list onto the end of another one, use `extend`."
     ]
    },
    {
     "cell_type": "code",
     "collapsed": true,
     "input": [
      "print currents\n",
      "currents.extend([1.5, 2.0])\n",
      "print currents"
     ],
     "language": "python",
     "metadata": {},
     "outputs": []
    },
    {
     "cell_type": "markdown",
     "metadata": {},
     "source": [
      "To delete a list entry, use the `del` command:"
     ]
    },
    {
     "cell_type": "code",
     "collapsed": false,
     "input": [
      "del voltages[0:2]\n",
      "voltages"
     ],
     "language": "python",
     "metadata": {},
     "outputs": []
    },
    {
     "cell_type": "markdown",
     "metadata": {},
     "source": [
      "To count the number of times an entry appears in a list, use the `count` method:"
     ]
    },
    {
     "cell_type": "code",
     "collapsed": false,
     "input": [
      "lots_of_voltages = 3*voltages\n",
      "print lots_of_voltages\n",
      "print lots_of_voltages.count(2.0)"
     ],
     "language": "python",
     "metadata": {},
     "outputs": []
    },
    {
     "cell_type": "markdown",
     "metadata": {},
     "source": [
      "To find the index of a particular value, use the `index` method:"
     ]
    },
    {
     "cell_type": "code",
     "collapsed": false,
     "input": [
      "voltages.index(3.0)"
     ],
     "language": "python",
     "metadata": {},
     "outputs": []
    },
    {
     "cell_type": "markdown",
     "metadata": {},
     "source": [
      "### Looping over Lists\n",
      "\n",
      "A traditional means for accessing list values would be to create an indexing mechanism:"
     ]
    },
    {
     "cell_type": "code",
     "collapsed": false,
     "input": [
      "for idx in range(0,len(voltages)):\n",
      "    print voltages[idx]"
     ],
     "language": "python",
     "metadata": {},
     "outputs": []
    },
    {
     "cell_type": "markdown",
     "metadata": {},
     "source": [
      "The prior approach is a common Python **idiom**. However, through a mechanism known as **list comprehension**, Python gives us the ability to move through the list without any index value:"
     ]
    },
    {
     "cell_type": "code",
     "collapsed": false,
     "input": [
      "for v in voltages:\n",
      "    print v"
     ],
     "language": "python",
     "metadata": {},
     "outputs": []
    },
    {
     "cell_type": "markdown",
     "metadata": {},
     "source": [
      "You can even use list comprehensions to manipulate the list data:"
     ]
    },
    {
     "cell_type": "code",
     "collapsed": false,
     "input": [
      "sq_voltages = [v**2 for v in voltages if v > 1.5]\n",
      "sq_voltages"
     ],
     "language": "python",
     "metadata": {},
     "outputs": []
    },
    {
     "cell_type": "markdown",
     "metadata": {},
     "source": [
      "### Exercise #2\n",
      "\n",
      "Create a list containing all the integers between 1 and 100 that are divisible by 3."
     ]
    },
    {
     "cell_type": "code",
     "collapsed": false,
     "input": [],
     "language": "python",
     "metadata": {},
     "outputs": []
    }
   ],
   "metadata": {}
  }
 ]
}