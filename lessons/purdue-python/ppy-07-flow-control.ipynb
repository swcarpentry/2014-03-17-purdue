{
 "metadata": {
  "name": ""
 },
 "nbformat": 3,
 "nbformat_minor": 0,
 "worksheets": [
  {
   "cells": [
    {
     "cell_type": "markdown",
     "metadata": {},
     "source": [
      "# Python: Flow Control\n",
      "\n",
      "*****"
     ]
    },
    {
     "cell_type": "markdown",
     "metadata": {},
     "source": [
      "Materials by: John Blischak and other Software Carpentry instructors (Joshua R. Smith, Milad Fatenejad, Katy Huff, Tommy Guy, Anthony Scopatz, and many more)"
     ]
    },
    {
     "cell_type": "markdown",
     "metadata": {},
     "source": [
      "The power of a computer program comes from its ability to rapidly repeat  series of instructions, and to selections on which bits of code to execute. Much of the complexity in computer software comes from the complex logic tree that results from repeating loops and selective conditional statements. We suggest that in writing software code you:\n",
      "\n",
      "* Write a **simple** version that works\n",
      "* Modify it to improve efficiency\n",
      "* Anticipate the unexpected\n",
      "* Don't sacrifice your time for the computer's\n",
      "\n",
      "\n",
      "In this lesson we will cover how to write code that will execute only if specified conditions are met and also how to automate repetitive tasks using loops."
     ]
    },
    {
     "cell_type": "markdown",
     "metadata": {},
     "source": [
      "# Boolean operators\n",
      "\n",
      "Python comes with literal comparison operators.  Namely, `< > <= >= == !=`.  All comparisons return the literal Boolean values: `True` or `False`.  These can be used to test values against one another. For example,"
     ]
    },
    {
     "cell_type": "code",
     "collapsed": false,
     "input": [
      "2 + 2 == 4"
     ],
     "language": "python",
     "metadata": {},
     "outputs": []
    },
    {
     "cell_type": "markdown",
     "metadata": {},
     "source": [
      "Comparisons between strings are defined, but may not give the answers you expect:"
     ]
    },
    {
     "cell_type": "code",
     "collapsed": false,
     "input": [
      "'big' > 'small'"
     ],
     "language": "python",
     "metadata": {},
     "outputs": []
    },
    {
     "cell_type": "markdown",
     "metadata": {},
     "source": [
      "Comparisons can be chained together with `and` to create a logical intersection, or chained togther with  `or` to create a logical union."
     ]
    },
    {
     "cell_type": "code",
     "collapsed": false,
     "input": [
      "1 == 1.0 and 'hello' == 'hello'"
     ],
     "language": "python",
     "metadata": {},
     "outputs": []
    },
    {
     "cell_type": "code",
     "collapsed": false,
     "input": [
      "1 > 10 or False"
     ],
     "language": "python",
     "metadata": {},
     "outputs": []
    },
    {
     "cell_type": "code",
     "collapsed": false,
     "input": [
      "42 < 24 or True and 'wow' != 'mom'"
     ],
     "language": "python",
     "metadata": {},
     "outputs": []
    },
    {
     "cell_type": "markdown",
     "metadata": {},
     "source": [
      "Comparisons may also be negated using the **not** keyword."
     ]
    },
    {
     "cell_type": "code",
     "collapsed": false,
     "input": [
      "not 2 + 2 == 5"
     ],
     "language": "python",
     "metadata": {},
     "outputs": []
    },
    {
     "cell_type": "markdown",
     "metadata": {},
     "source": [
      "Be careful; comparisons will sometimes return a value even when comparing things of different `type`:\n"
     ]
    },
    {
     "cell_type": "code",
     "collapsed": false,
     "input": [
      "'1' < 2          # comparing a string and an int"
     ],
     "language": "python",
     "metadata": {},
     "outputs": []
    },
    {
     "cell_type": "code",
     "collapsed": false,
     "input": [
      "True == 'True'   # comparing a Boolean and a string"
     ],
     "language": "python",
     "metadata": {},
     "outputs": []
    },
    {
     "cell_type": "markdown",
     "metadata": {},
     "source": [
      "Comparisons between strings return results in *lexiographical order*, in which the leftmost characters are compared first. "
     ]
    },
    {
     "cell_type": "code",
     "collapsed": false,
     "input": [
      "'Bears' > 'Packers'"
     ],
     "language": "python",
     "metadata": {},
     "outputs": []
    },
    {
     "cell_type": "markdown",
     "metadata": {},
     "source": [
      "As two special cases, the Boolean values match 0 and 1, but no other integers:"
     ]
    },
    {
     "cell_type": "code",
     "collapsed": false,
     "input": [
      "True == 0"
     ],
     "language": "python",
     "metadata": {},
     "outputs": []
    },
    {
     "cell_type": "code",
     "collapsed": false,
     "input": [
      "True == 1"
     ],
     "language": "python",
     "metadata": {},
     "outputs": []
    },
    {
     "cell_type": "markdown",
     "metadata": {},
     "source": [
      "Bitwise operators for and (`&`) and or (`|`) also work:"
     ]
    },
    {
     "cell_type": "code",
     "collapsed": false,
     "input": [
      "(2 + 2 == 4) & (3 - 3 == 0) | (5 == 4)"
     ],
     "language": "python",
     "metadata": {},
     "outputs": []
    },
    {
     "cell_type": "code",
     "collapsed": false,
     "input": [
      "a = 60\n",
      "b = 30\n",
      "print '{0:08b}'.format(a)\n",
      "print '{0:08b}'.format(b)\n",
      "print 8*'-'\n",
      "print '{0:08b}'.format(a&b)"
     ],
     "language": "python",
     "metadata": {},
     "outputs": []
    },
    {
     "cell_type": "markdown",
     "metadata": {},
     "source": [
      "# If statements\n",
      "\n",
      "Comparisons can be used to control program behavior by placing them in an **if** statement.  Such statements have the following form:\n",
      "\n",
      "    if <condition>:\n",
      "        <indented block of code>\n",
      "\n",
      "The indented code will only be execute if the condition evaluates to `True`, which is a special Boolean value."
     ]
    },
    {
     "cell_type": "code",
     "collapsed": true,
     "input": [
      "x = 5\n",
      "if x < 0:\n",
      "    print \"x is negative\""
     ],
     "language": "python",
     "metadata": {},
     "outputs": []
    },
    {
     "cell_type": "code",
     "collapsed": true,
     "input": [
      "x = -5\n",
      "if x < 0:\n",
      "    print \"x is negative\""
     ],
     "language": "python",
     "metadata": {},
     "outputs": []
    },
    {
     "cell_type": "markdown",
     "metadata": {},
     "source": [
      "The **if** statement can be combined to great effect with a corresponding **else** clause. \n",
      "\n",
      "    if <condition>:\n",
      "        <if-block>\n",
      "    else:\n",
      "        <else-block>\n",
      "        \n",
      "When the condition is `True` the if-block is executed.  When the condition is `False` the else-block is executed instead."
     ]
    },
    {
     "cell_type": "code",
     "collapsed": true,
     "input": [
      "x = 5\n",
      "if x < 0:\n",
      "    print \"x is negative\"\n",
      "else:\n",
      "    print \"x in non-negative\""
     ],
     "language": "python",
     "metadata": {},
     "outputs": []
    },
    {
     "cell_type": "markdown",
     "metadata": {},
     "source": [
      "Many cases may be tested by using the **elif** statement.  These come between all the `if` and `else` statements:\n",
      "\n",
      "    if <if-condition>:\n",
      "        <if-block>\n",
      "    elif <elif-condition>:\n",
      "        <elif-block>\n",
      "    else:\n",
      "        <else-block>\n",
      "        \n",
      "When if-condition is true then only the if-block is executed.  When elif-condition is true then only the elif-block is executed.  When neither of these are true then the else-block is executed."
     ]
    },
    {
     "cell_type": "code",
     "collapsed": true,
     "input": [
      "x = 5\n",
      "if x < 0:\n",
      "    print \"x is negative\"\n",
      "elif x == 0:\n",
      "    print \"x is zero\"\n",
      "else:\n",
      "    print \"x is positive\""
     ],
     "language": "python",
     "metadata": {},
     "outputs": []
    },
    {
     "cell_type": "markdown",
     "metadata": {},
     "source": [
      "While there must be one `if` statement, and there may be at most one `else` statement, there may be as many `elif` statements as are desired.\n",
      "\n",
      "    if <if-condition>:\n",
      "        <if-block>\n",
      "    elif <elif-condition1>:\n",
      "        <elif-block1>\n",
      "    elif <elif-condition2>:\n",
      "        <elif-block2>\n",
      "    elif <elif-condition3>:\n",
      "        <elif-block3>\n",
      "    ...\n",
      "    else:\n",
      "        <else-block>\n",
      "        \n",
      "Only the block for top most condition that is true is executed, and the conditions are always tested in the order they appear. Each block may contain sub-blocks of their own."
     ]
    },
    {
     "cell_type": "code",
     "collapsed": false,
     "input": [
      "x = 5\n",
      "if x < 0:\n",
      "    print \"x is negative\"\n",
      "elif x == 0:\n",
      "    print \"x is zero\"\n",
      "elif x == 1:\n",
      "    print \"x is zero\"\n",
      "elif x == 2:\n",
      "    print \"x is two\"\n",
      "else:\n",
      "    print \"x is positive and is not equal to 0, 1, or 2\""
     ],
     "language": "python",
     "metadata": {},
     "outputs": []
    },
    {
     "cell_type": "markdown",
     "metadata": {},
     "source": [
      "## Aside About Python Indentation\n",
      "Indentation is a Python feature, because studies show that's what people actually pay attention to. While other programming languages use brackets to denote a command block, **Python uses indentation to recognize blocks of code that are part of conditional statements and loops.** It doesn't matter how much indendation you use, but your whole block must be consistent. The Python Style Guide (PEP 8) recommends 4 spaces and no tab characters. Please, **do not mix tabs and spaces!** \n",
      "\n",
      "The end of the indentation (that is, the first line that has the same indentation level as the `if`) indicates the end of the block subject to the `if`'s control.  This `if` has more than one statement in each block:"
     ]
    },
    {
     "cell_type": "code",
     "collapsed": false,
     "input": [
      "x = 5\n",
      "if x < 0:\n",
      "    print \"x is negative\"\n",
      "    print \"x is still negative\"\n",
      "else:\n",
      "    print \"x is nonnegative\"\n",
      "    print \"x is still nonnegative\"\n",
      "print \"But what is x?\""
     ],
     "language": "python",
     "metadata": {},
     "outputs": []
    },
    {
     "cell_type": "markdown",
     "metadata": {},
     "source": [
      "The last statement always prints, because it is not inside of either of the two indented blocks controlled by the `if`."
     ]
    },
    {
     "cell_type": "markdown",
     "metadata": {},
     "source": [
      "## Exercise\n",
      "Write an `if` statement that prints whether x is even or odd. \n",
      "\n",
      "Hint:  % is the **modular division operator**.  `a % b` returns the remainder after a is divided by b: "
     ]
    },
    {
     "cell_type": "code",
     "collapsed": false,
     "input": [
      "print 3 % 2 \n",
      "print 4 % 2\n",
      "print 5 % 2\n",
      "print 6 % 2"
     ],
     "language": "python",
     "metadata": {},
     "outputs": []
    },
    {
     "cell_type": "code",
     "collapsed": false,
     "input": [
      "#  Your code goes here"
     ],
     "language": "python",
     "metadata": {},
     "outputs": []
    },
    {
     "cell_type": "markdown",
     "metadata": {},
     "source": [
      "# Loops\n",
      "Loops come in two flavors: `while` and `for`.  While loops have the following structure:\n",
      "\n",
      "    while <condition>:\n",
      "        <indented block of code>\n",
      "        \n",
      "As long as the condition is `True`, the code in the block will continue to execute.  This may lead to infinitely executing loops! It may also be the case that the loop excutes zero times. It's important to consider these edge cases when designing code."
     ]
    },
    {
     "cell_type": "code",
     "collapsed": true,
     "input": [
      "fruits = ['apples', 'oranges', 'pears', 'bananas']\n",
      "i = 0\n",
      "while i < len(fruits):\n",
      "    print fruits[i]\n",
      "    i = i + 1"
     ],
     "language": "python",
     "metadata": {},
     "outputs": []
    },
    {
     "cell_type": "markdown",
     "metadata": {},
     "source": [
      "Meanwhile, for-loops have the following structure:\n",
      "\n",
      "    for <loop variable name> in <iterable>:\n",
      "         <indented block of code>\n",
      "\n",
      "Here `<loop variable name>` is the name of a **new** variable that the for loop will define on each iteration, and `<iterable>` is an object that knows how to give us its items in succession.  Lists, sets, and file handles can be iterated over like this.  The `for` loop assigns `<loop variable name>` to the first value of `<iterable>` and runs the block of code.  It then gets the next value of `<iterable>` and runs the block again until `<iterable>` is exhausted."
     ]
    },
    {
     "cell_type": "code",
     "collapsed": true,
     "input": [
      "for fruit in fruits:\n",
      "    print fruit"
     ],
     "language": "python",
     "metadata": {},
     "outputs": []
    },
    {
     "cell_type": "markdown",
     "metadata": {},
     "source": [
      "`range(6)` returns a list of integers from 0 to 5.  "
     ]
    },
    {
     "cell_type": "code",
     "collapsed": false,
     "input": [
      "print range(6)\n",
      "for i in range(6):\n",
      "    print i"
     ],
     "language": "python",
     "metadata": {},
     "outputs": []
    },
    {
     "cell_type": "markdown",
     "metadata": {},
     "source": [
      "Since `range` returns a list, we can use it to count from 0 to `len(fruits)-1`, and use these numbers to access the contents of the list `fruits`.   This loop prints both the items and their indexes."
     ]
    },
    {
     "cell_type": "code",
     "collapsed": true,
     "input": [
      "# Use range for a range on integers\n",
      "for i in range(len(fruits)):\n",
      "    print i, fruits[i]"
     ],
     "language": "python",
     "metadata": {},
     "outputs": []
    },
    {
     "cell_type": "markdown",
     "metadata": {},
     "source": [
      "`zip` is a function that takes two lists and returns a list of tuples.  "
     ]
    },
    {
     "cell_type": "code",
     "collapsed": false,
     "input": [
      "fruits = ['apples', 'oranges', 'pears', 'bananas']\n",
      "prices = [0.49, 0.99, 1.49, 0.32]\n",
      "print zip(fruits, prices)"
     ],
     "language": "python",
     "metadata": {},
     "outputs": []
    },
    {
     "cell_type": "markdown",
     "metadata": {},
     "source": [
      "We can use this list to go through both lists at the same time:"
     ]
    },
    {
     "cell_type": "code",
     "collapsed": true,
     "input": [
      "# Use zip to iterate over two lists at once\n",
      "fruits = ['apples', 'oranges', 'pears', 'bananas']\n",
      "prices = [0.49, 0.99, 1.49, 0.32]\n",
      "for fruit, price in zip(fruits, prices):\n",
      "    print fruit, \"cost\", price, \"each\"\n"
     ],
     "language": "python",
     "metadata": {},
     "outputs": []
    },
    {
     "cell_type": "markdown",
     "metadata": {},
     "source": [
      "`.items()` is a method defined for dictionaries that allows us to easily iterate over key, value pairs.  It returns a list of tuples `[(key1, value1), (key2, value2)...]`"
     ]
    },
    {
     "cell_type": "code",
     "collapsed": true,
     "input": [
      "# Use \"items\" to iterate over a dictionary\n",
      "# Note the order is non-deterministic\n",
      "prices = {'apples': 0.49, 'oranges': 0.99, 'pears': 1.49, 'bananas': 0.32}\n",
      "for fruit, price in prices.items():\n",
      "    print fruit, \"cost\", price, \"each\""
     ],
     "language": "python",
     "metadata": {},
     "outputs": []
    },
    {
     "cell_type": "markdown",
     "metadata": {},
     "source": [
      "We can even use the data to modify variables:"
     ]
    },
    {
     "cell_type": "code",
     "collapsed": true,
     "input": [
      "# Calculating a sum\n",
      "values = [1254, 95818, 61813541, 1813, 4]\n",
      "total = 0\n",
      "for x in values:\n",
      "    total = total + x\n",
      "print total"
     ],
     "language": "python",
     "metadata": {},
     "outputs": []
    },
    {
     "cell_type": "markdown",
     "metadata": {},
     "source": [
      "## Short Exercise\n",
      "Using a loop, calculate the factorial of 7 (the product of all positive integers up to and including 7). Once you've written a simple version, can you improve its computational efficiency?"
     ]
    },
    {
     "cell_type": "code",
     "collapsed": false,
     "input": [],
     "language": "python",
     "metadata": {},
     "outputs": []
    },
    {
     "cell_type": "markdown",
     "metadata": {},
     "source": [
      "## break, continue, and else\n",
      "\n",
      "A `break` statement causes a loop to stop iterating immediately, without finishing the current block.  It helps\n",
      "avoid infinite loops by cutting off loops when they're clearly going\n",
      "nowhere."
     ]
    },
    {
     "cell_type": "code",
     "collapsed": true,
     "input": [
      "reasonable = 10\n",
      "for n in range(1,2000):\n",
      "    if n == reasonable:\n",
      "        break\n",
      "    print n"
     ],
     "language": "python",
     "metadata": {},
     "outputs": []
    },
    {
     "cell_type": "markdown",
     "metadata": {},
     "source": [
      "`continue` causes the loop to skip immediately to the beginning of the next iteration,\n",
      "without completing the rest of the commands in the indented block."
     ]
    },
    {
     "cell_type": "code",
     "collapsed": true,
     "input": [
      "reasonable = 10\n",
      "for n in range(1,20):\n",
      "    if n == reasonable:\n",
      "      continue\n",
      "    print n"
     ],
     "language": "python",
     "metadata": {},
     "outputs": []
    },
    {
     "cell_type": "markdown",
     "metadata": {},
     "source": [
      "What is the difference between the output of these two?\n",
      "\n",
      "We can combine loops and flow control to take actions that are more complex, and that depend on the data.  First, let us define a dictionary with some names and titles, and a list with a subset of the names we will treat differently."
     ]
    },
    {
     "cell_type": "code",
     "collapsed": false,
     "input": [
      "knights = {\"Sir Belvedere\":\"the Wise\", \n",
      "           \"Sir Lancelot\":\"the Brave\", \n",
      "           \"Sir Galahad\":\"the Pure\", \n",
      "           \"Sir Robin\":\"the Brave\", \n",
      "           \"The Black Knight\":\"John Cleese\"} # create a dict with names and titles\n",
      "favorites = knights.keys()      # create a list of favorites with all the knights\n",
      "favorites.remove(\"Sir Robin\") # change favorites to include all but one.\n",
      "print knights\n",
      "print favorites"
     ],
     "language": "python",
     "metadata": {},
     "outputs": []
    },
    {
     "cell_type": "markdown",
     "metadata": {},
     "source": [
      "We can loop through the dict of names and titles and do one of two different things for each by putting an `if` statement inside the `for` loop:"
     ]
    },
    {
     "cell_type": "code",
     "collapsed": true,
     "input": [
      "for name, title in knights.items(): \n",
      "    string = name + \", \"\n",
      "    if name in favorites:   # this returns True if any of the values in favorites match.\n",
      "        string = string + title\n",
      "    else:\n",
      "        string = string + title + \", but not quite so brave as Sir Lancelot.\" \n",
      "    print string"
     ],
     "language": "python",
     "metadata": {},
     "outputs": []
    },
    {
     "cell_type": "markdown",
     "metadata": {},
     "source": [
      "# Reading from a file"
     ]
    },
    {
     "cell_type": "code",
     "collapsed": true,
     "input": [
      "my_file = open(\"example.txt\")\n",
      "for line in my_file:\n",
      "    print line.strip()\n",
      "my_file.close()"
     ],
     "language": "python",
     "metadata": {},
     "outputs": []
    },
    {
     "cell_type": "markdown",
     "metadata": {},
     "source": [
      "# Writing to a file"
     ]
    },
    {
     "cell_type": "code",
     "collapsed": true,
     "input": [
      "new_file = open(\"example2.txt\", \"w\")\n",
      "lines = ['Does this lion eat ants?', 'have you confused your cat recently?', \"It's just a flesh wound!\"]\n",
      "for i in lines:\n",
      "    new_file.write(i + '\\n')\n",
      "new_file.close()"
     ],
     "language": "python",
     "metadata": {},
     "outputs": []
    },
    {
     "cell_type": "markdown",
     "metadata": {},
     "source": [
      "# Bonus material: List comprehensions"
     ]
    },
    {
     "cell_type": "markdown",
     "metadata": {},
     "source": [
      "Python has another way to perform iteration called list comprehensions.  These are succinct ways to perform routine initialization or setting of variables."
     ]
    },
    {
     "cell_type": "code",
     "collapsed": false,
     "input": [
      "# Multiply every number in a list by 2 using a for loop\n",
      "nums1 = [5, 1, 3, 10]\n",
      "nums2 = []\n",
      "for i in range(len(nums1)):\n",
      "    nums2.append(nums1[i] * 2)\n",
      "    \n",
      "print nums2"
     ],
     "language": "python",
     "metadata": {},
     "outputs": []
    },
    {
     "cell_type": "code",
     "collapsed": false,
     "input": [
      "# Multiply every number in a list by 2 using a list comprehension\n",
      "nums2 = [x * 2 for x in nums1]\n",
      "\n",
      "print nums2"
     ],
     "language": "python",
     "metadata": {},
     "outputs": []
    },
    {
     "cell_type": "code",
     "collapsed": false,
     "input": [
      "# Multiply every number in a list by 2, but only if the number is greater than 4\n",
      "nums1 = [5, 1, 3, 10]\n",
      "nums2 = []\n",
      "for i in range(len(nums1)):\n",
      "    if nums1[i] > 4:\n",
      "        nums2.append(nums1[i] * 2)\n",
      "    \n",
      "print nums2"
     ],
     "language": "python",
     "metadata": {},
     "outputs": []
    },
    {
     "cell_type": "code",
     "collapsed": false,
     "input": [
      "# And using a list comprehension\n",
      "nums2 = [x * 2 for x in nums1 if x > 4]\n",
      "\n",
      "print nums2"
     ],
     "language": "python",
     "metadata": {},
     "outputs": []
    }
   ],
   "metadata": {}
  }
 ]
}