{
 "metadata": {
  "name": ""
 },
 "nbformat": 3,
 "nbformat_minor": 0,
 "worksheets": [
  {
   "cells": [
    {
     "cell_type": "markdown",
     "metadata": {},
     "source": [
      "# File I/O\n",
      "\n",
      "**Authors: Tommy Guy, Anthony Scopatz, Will Trimble, Leszek Tarkowski**\n",
      "\n"
     ]
    },
    {
     "cell_type": "markdown",
     "metadata": {},
     "source": [
      "Python has a built-in function called \"open()\" that can be used to\n",
      "manipulate files. The help information for open is below:"
     ]
    },
    {
     "cell_type": "code",
     "collapsed": false,
     "input": [
      "help(open)"
     ],
     "language": "python",
     "metadata": {},
     "outputs": []
    },
    {
     "cell_type": "markdown",
     "metadata": {},
     "source": [
      "A text file with comma-separated values (CSV) is available for your perusal. Let's see what's in the file:"
     ]
    },
    {
     "cell_type": "code",
     "collapsed": false,
     "input": [
      "!cat csv-data.txt"
     ],
     "language": "python",
     "metadata": {},
     "outputs": []
    },
    {
     "cell_type": "markdown",
     "metadata": {},
     "source": [
      "The two parameters we need to worry about when opening a file are the name of the file and the mode. The mode determines whether we can read from or write to\n",
      "the file. \n",
      "\n",
      "Using the Python `open` function returns a file object that acts like a pointer into the file. An example will make this clear.\n",
      "\n",
      "Let's open file `csv-data.txt` in Python:"
     ]
    },
    {
     "cell_type": "code",
     "collapsed": false,
     "input": [
      "reader = open('csv-data.txt', 'r')"
     ],
     "language": "python",
     "metadata": {},
     "outputs": []
    },
    {
     "cell_type": "markdown",
     "metadata": {},
     "source": [
      "Using 'r' for the second input parameter means we want to open the file for reading only. Thus, we will be unable to write any data to the file.\n",
      "\n",
      "We can first verify that we're dealing with a `file` object"
     ]
    },
    {
     "cell_type": "code",
     "collapsed": false,
     "input": [
      "type(reader)"
     ],
     "language": "python",
     "metadata": {},
     "outputs": []
    },
    {
     "cell_type": "markdown",
     "metadata": {},
     "source": [
      "To see what methods are available to a file object:"
     ]
    },
    {
     "cell_type": "code",
     "collapsed": false,
     "input": [
      "dir(reader)"
     ],
     "language": "python",
     "metadata": {},
     "outputs": []
    },
    {
     "cell_type": "markdown",
     "metadata": {},
     "source": [
      "We can input the file one line at a time:"
     ]
    },
    {
     "cell_type": "code",
     "collapsed": false,
     "input": [
      "reader.next()"
     ],
     "language": "python",
     "metadata": {},
     "outputs": []
    },
    {
     "cell_type": "markdown",
     "metadata": {},
     "source": [
      "Repeat the above command until you get a `StopIteration` error.\n",
      "\n",
      "To go back to the beginning of the file, use `seek(0)`. Then use the `readlines` method to append every line of text to a list."
     ]
    },
    {
     "cell_type": "code",
     "collapsed": false,
     "input": [
      "reader.seek(0)\n",
      "data = reader.readlines()\n",
      "data"
     ],
     "language": "python",
     "metadata": {},
     "outputs": []
    },
    {
     "cell_type": "markdown",
     "metadata": {},
     "source": [
      "A very important point about the `readline` method is that it *keeps* the\n",
      "newline character (\\n) at the end of each line. You can use the `strip()`\n",
      "method to get rid of the string, if needed.\n",
      "\n",
      "If we want to drop the header information, and just deal with the data, we can use the `del` function:"
     ]
    },
    {
     "cell_type": "code",
     "collapsed": false,
     "input": [
      "del data[0]\n",
      "data"
     ],
     "language": "python",
     "metadata": {},
     "outputs": []
    },
    {
     "cell_type": "markdown",
     "metadata": {},
     "source": [
      "To separate out the invidual values in each line of text, we use the `split()` method:"
     ]
    },
    {
     "cell_type": "code",
     "collapsed": false,
     "input": [
      "for entry in data:\n",
      "    print entry.split()"
     ],
     "language": "python",
     "metadata": {},
     "outputs": []
    },
    {
     "cell_type": "markdown",
     "metadata": {},
     "source": [
      "When we're done with the file object, we close it:"
     ]
    },
    {
     "cell_type": "code",
     "collapsed": false,
     "input": [
      "reader.close()"
     ],
     "language": "python",
     "metadata": {},
     "outputs": []
    },
    {
     "cell_type": "markdown",
     "metadata": {},
     "source": [
      "With this knowledge, let's write a program that converts the height data in this file from inches to centimeters."
     ]
    },
    {
     "cell_type": "code",
     "collapsed": false,
     "input": [
      "reader = open('csv-data.txt', 'r')\n",
      "data = reader.readlines()\n",
      "reader.close()\n",
      "modified_data = [data[0]]           # copy header into new data list\n",
      "del data[0]  \t\t\t\t\t\t# delete header from old data list\n",
      "for entry in data:\n",
      "    splitlist = entry.split()\n",
      "    if len(splitlist) > 0:          # have to deal with empty final line\n",
      "        [sub, age, gen, hgt] = entry.split(',')\n",
      "        new_hgt = float(hgt)*2.54   # convert height from inches to cm\n",
      "        new_hgt = ' ' + str(new_hgt)# convert height back to a string\n",
      "        newline = ','.join([sub, age, gen, new_hgt])\n",
      "        newline = newline + '\\n'    # add new line at end of each entry\n",
      "        modified_data.append(newline)\n",
      "writer = open('modified-csv-data.txt', 'w')\n",
      "writer.writelines(modified_data)\n",
      "writer.close()"
     ],
     "language": "python",
     "metadata": {},
     "outputs": []
    },
    {
     "cell_type": "code",
     "collapsed": false,
     "input": [
      "!cat csv-data.txt\n",
      "!cat modified-csv-data.txt"
     ],
     "language": "python",
     "metadata": {},
     "outputs": []
    },
    {
     "cell_type": "markdown",
     "metadata": {},
     "source": [
      "\n",
      "File handles are also iterable, which means we can use them in for loops\n",
      "or list extensions:"
     ]
    },
    {
     "cell_type": "code",
     "collapsed": false,
     "input": [
      "f = open('csv-data.txt', 'r')\n",
      "lines = [line.strip().split(',') for line in f]\n",
      "f.close()\n",
      "print lines"
     ],
     "language": "python",
     "metadata": {},
     "outputs": []
    },
    {
     "cell_type": "markdown",
     "metadata": {},
     "source": [
      "It's often best to handle a file one line at a time, particularly when the file is so large it might not fit in memory.\n",
      "\n",
      "Writing to a file uses the `write()` command, which accepts a string."
     ]
    },
    {
     "cell_type": "code",
     "collapsed": false,
     "input": [
      "outfile = open('outfile.txt', 'w')\n",
      "outfile.write('This is the first line!')\n",
      "outfile.close()"
     ],
     "language": "python",
     "metadata": {},
     "outputs": []
    },
    {
     "cell_type": "markdown",
     "metadata": {},
     "source": [
      "*Caution!* Opening a file with the 'w' option means start writing *at\n",
      "the beginning*, which may overwrite old material. If you want to append\n",
      "to the file without losing what is already there, open it with 'a'.\n",
      "\n",
      "Another way to write to a file is to use `writelines()`, which accepts a\n",
      "list of strings and writes them in order. *Caution!* The `writelines` method does not append newlines. If you really want to write a newline at the end of\n",
      "each string in the list, add it yourself."
     ]
    },
    {
     "cell_type": "markdown",
     "metadata": {},
     "source": [
      "## Context managers\n",
      "\n",
      "Closing a file is something often neglected in Python due to the fact that\n",
      "it is usually done automatically at the end of a script by Python's garbage collector,\n",
      "a part of the interpreter responsible for closing unused resources.\n",
      "\n",
      "In less trivial scenarios, a file should be closed after using it to prevent\n",
      "data corruption. To ensure this, you can use a special language construct\n",
      "called a context manager, available since Python 2.5.\n",
      "\n",
      "```python\n",
      "   with open('outfile.txt','w') as f:\n",
      "       f.write(\"Message of a Great Importance\")\n",
      "\n",
      "   #other instructions, file is already closed at this point\n",
      "```\n",
      "\n",
      "Also called \"with statements\", context managers are responsible for releasing\n",
      "resources when they are no longer needed.  In this example, the context manager\n",
      "opens a file, creates a file handle variable to the open file named `f`, and after\n",
      "the block of instructions completes, closes the file."
     ]
    },
    {
     "cell_type": "markdown",
     "metadata": {},
     "source": [
      "### Exercise\n",
      "\n",
      "Write a Python program that modifies data in `csv-data.txt` such that all the ages are given in months, instead of years. Write results to `more-modified-csv-data.txt`.\n",
      "\n"
     ]
    }
   ],
   "metadata": {}
  }
 ]
}